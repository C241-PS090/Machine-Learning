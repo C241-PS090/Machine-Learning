{
 "cells": [
  {
   "cell_type": "code",
   "execution_count": 1,
   "id": "41aafb0d",
   "metadata": {
    "execution": {
     "iopub.execute_input": "2024-06-08T15:51:21.687757Z",
     "iopub.status.busy": "2024-06-08T15:51:21.687292Z",
     "iopub.status.idle": "2024-06-08T15:53:10.922460Z",
     "shell.execute_reply": "2024-06-08T15:53:10.920667Z"
    },
    "papermill": {
     "duration": 109.250991,
     "end_time": "2024-06-08T15:53:10.925978",
     "exception": false,
     "start_time": "2024-06-08T15:51:21.674987",
     "status": "completed"
    },
    "tags": []
   },
   "outputs": [
    {
     "name": "stdout",
     "output_type": "stream",
     "text": [
      "Collecting gdown\r\n",
      "  Downloading gdown-5.2.0-py3-none-any.whl.metadata (5.8 kB)\r\n",
      "Requirement already satisfied: beautifulsoup4 in /opt/conda/lib/python3.10/site-packages (from gdown) (4.12.2)\r\n",
      "Requirement already satisfied: filelock in /opt/conda/lib/python3.10/site-packages (from gdown) (3.13.1)\r\n",
      "Requirement already satisfied: requests[socks] in /opt/conda/lib/python3.10/site-packages (from gdown) (2.31.0)\r\n",
      "Requirement already satisfied: tqdm in /opt/conda/lib/python3.10/site-packages (from gdown) (4.66.4)\r\n",
      "Requirement already satisfied: soupsieve>1.2 in /opt/conda/lib/python3.10/site-packages (from beautifulsoup4->gdown) (2.5)\r\n",
      "Requirement already satisfied: charset-normalizer<4,>=2 in /opt/conda/lib/python3.10/site-packages (from requests[socks]->gdown) (3.3.2)\r\n",
      "Requirement already satisfied: idna<4,>=2.5 in /opt/conda/lib/python3.10/site-packages (from requests[socks]->gdown) (3.6)\r\n",
      "Requirement already satisfied: urllib3<3,>=1.21.1 in /opt/conda/lib/python3.10/site-packages (from requests[socks]->gdown) (1.26.18)\r\n",
      "Requirement already satisfied: certifi>=2017.4.17 in /opt/conda/lib/python3.10/site-packages (from requests[socks]->gdown) (2024.2.2)\r\n",
      "Requirement already satisfied: PySocks!=1.5.7,>=1.5.6 in /opt/conda/lib/python3.10/site-packages (from requests[socks]->gdown) (1.7.1)\r\n",
      "Downloading gdown-5.2.0-py3-none-any.whl (18 kB)\r\n",
      "\u001b[33mWARNING: Error parsing requirements for aiohttp: [Errno 2] No such file or directory: '/opt/conda/lib/python3.10/site-packages/aiohttp-3.9.1.dist-info/METADATA'\u001b[0m\u001b[33m\r\n",
      "\u001b[0mInstalling collected packages: gdown\r\n",
      "Successfully installed gdown-5.2.0\r\n",
      "Collecting unzip\r\n",
      "  Downloading unzip-1.0.0.tar.gz (704 bytes)\r\n",
      "  Preparing metadata (setup.py) ... \u001b[?25l-\b \bdone\r\n",
      "\u001b[?25hBuilding wheels for collected packages: unzip\r\n",
      "  Building wheel for unzip (setup.py) ... \u001b[?25l-\b \b\\\b \bdone\r\n",
      "\u001b[?25h  Created wheel for unzip: filename=unzip-1.0.0-py3-none-any.whl size=1280 sha256=6e4756670c7e84a156bd0f22b9c10c1fa95cbf3b4662b80bf01281f18de25d65\r\n",
      "  Stored in directory: /root/.cache/pip/wheels/80/dc/7a/f8af45bc239e7933509183f038ea8d46f3610aab82b35369f4\r\n",
      "Successfully built unzip\r\n",
      "\u001b[33mWARNING: Error parsing requirements for aiohttp: [Errno 2] No such file or directory: '/opt/conda/lib/python3.10/site-packages/aiohttp-3.9.1.dist-info/METADATA'\u001b[0m\u001b[33m\r\n",
      "\u001b[0mInstalling collected packages: unzip\r\n",
      "Successfully installed unzip-1.0.0\r\n",
      "\u001b[31mERROR: Could not find a version that satisfies the requirement tensorflow==2.16 (from versions: 2.8.0rc0, 2.8.0rc1, 2.8.0, 2.8.1, 2.8.2, 2.8.3, 2.8.4, 2.9.0rc0, 2.9.0rc1, 2.9.0rc2, 2.9.0, 2.9.1, 2.9.2, 2.9.3, 2.10.0rc0, 2.10.0rc1, 2.10.0rc2, 2.10.0rc3, 2.10.0, 2.10.1, 2.11.0rc0, 2.11.0rc1, 2.11.0rc2, 2.11.0, 2.11.1, 2.12.0rc0, 2.12.0rc1, 2.12.0, 2.12.1, 2.13.0rc0, 2.13.0rc1, 2.13.0rc2, 2.13.0, 2.13.1, 2.14.0rc0, 2.14.0rc1, 2.14.0, 2.14.1, 2.15.0rc0, 2.15.0rc1, 2.15.0, 2.15.0.post1, 2.15.1, 2.16.0rc0, 2.16.1)\u001b[0m\u001b[31m\r\n",
      "\u001b[0m\u001b[31mERROR: No matching distribution found for tensorflow==2.16\u001b[0m\u001b[31m\r\n",
      "\u001b[0m\u001b[31mERROR: Could not find a version that satisfies the requirement PIL (from versions: none)\u001b[0m\u001b[31m\r\n",
      "\u001b[0m\u001b[31mERROR: No matching distribution found for PIL\u001b[0m\u001b[31m\r\n",
      "\u001b[0mRequirement already satisfied: pydot in /opt/conda/lib/python3.10/site-packages (1.4.2)\r\n",
      "Requirement already satisfied: pyparsing>=2.1.4 in /opt/conda/lib/python3.10/site-packages (from pydot) (3.1.1)\r\n",
      "\u001b[33mWARNING: Error parsing requirements for aiohttp: [Errno 2] No such file or directory: '/opt/conda/lib/python3.10/site-packages/aiohttp-3.9.1.dist-info/METADATA'\u001b[0m\u001b[33m\r\n",
      "\u001b[0mCollecting pathlib\r\n",
      "  Downloading pathlib-1.0.1-py3-none-any.whl.metadata (5.1 kB)\r\n",
      "Downloading pathlib-1.0.1-py3-none-any.whl (14 kB)\r\n",
      "\u001b[33mWARNING: Error parsing requirements for aiohttp: [Errno 2] No such file or directory: '/opt/conda/lib/python3.10/site-packages/aiohttp-3.9.1.dist-info/METADATA'\u001b[0m\u001b[33m\r\n",
      "\u001b[0mInstalling collected packages: pathlib\r\n",
      "Successfully installed pathlib-1.0.1\r\n",
      "Requirement already satisfied: keras in /opt/conda/lib/python3.10/site-packages (3.3.3)\r\n",
      "Requirement already satisfied: absl-py in /opt/conda/lib/python3.10/site-packages (from keras) (1.4.0)\r\n",
      "Requirement already satisfied: numpy in /opt/conda/lib/python3.10/site-packages (from keras) (1.26.4)\r\n",
      "Requirement already satisfied: rich in /opt/conda/lib/python3.10/site-packages (from keras) (13.7.0)\r\n",
      "Requirement already satisfied: namex in /opt/conda/lib/python3.10/site-packages (from keras) (0.0.8)\r\n",
      "Requirement already satisfied: h5py in /opt/conda/lib/python3.10/site-packages (from keras) (3.10.0)\r\n",
      "Requirement already satisfied: optree in /opt/conda/lib/python3.10/site-packages (from keras) (0.11.0)\r\n",
      "Requirement already satisfied: ml-dtypes in /opt/conda/lib/python3.10/site-packages (from keras) (0.2.0)\r\n",
      "Requirement already satisfied: typing-extensions>=4.0.0 in /opt/conda/lib/python3.10/site-packages (from optree->keras) (4.9.0)\r\n",
      "Requirement already satisfied: markdown-it-py>=2.2.0 in /opt/conda/lib/python3.10/site-packages (from rich->keras) (3.0.0)\r\n",
      "Requirement already satisfied: pygments<3.0.0,>=2.13.0 in /opt/conda/lib/python3.10/site-packages (from rich->keras) (2.17.2)\r\n",
      "Requirement already satisfied: mdurl~=0.1 in /opt/conda/lib/python3.10/site-packages (from markdown-it-py>=2.2.0->rich->keras) (0.1.2)\r\n",
      "\u001b[33mWARNING: Error parsing requirements for aiohttp: [Errno 2] No such file or directory: '/opt/conda/lib/python3.10/site-packages/aiohttp-3.9.1.dist-info/METADATA'\u001b[0m\u001b[33m\r\n",
      "\u001b[0mCollecting tensorflowjs\r\n",
      "  Downloading tensorflowjs-4.20.0-py3-none-any.whl.metadata (3.2 kB)\r\n",
      "Requirement already satisfied: flax>=0.7.2 in /opt/conda/lib/python3.10/site-packages (from tensorflowjs) (0.8.4)\r\n",
      "Requirement already satisfied: importlib_resources>=5.9.0 in /opt/conda/lib/python3.10/site-packages (from tensorflowjs) (6.1.1)\r\n",
      "Requirement already satisfied: jax>=0.4.13 in /opt/conda/lib/python3.10/site-packages (from tensorflowjs) (0.4.28)\r\n",
      "Requirement already satisfied: jaxlib>=0.4.13 in /opt/conda/lib/python3.10/site-packages (from tensorflowjs) (0.4.28)\r\n",
      "Requirement already satisfied: tensorflow<3,>=2.13.0 in /opt/conda/lib/python3.10/site-packages (from tensorflowjs) (2.15.0)\r\n",
      "Requirement already satisfied: tf-keras>=2.13.0 in /opt/conda/lib/python3.10/site-packages (from tensorflowjs) (2.15.1)\r\n",
      "Requirement already satisfied: tensorflow-decision-forests>=1.5.0 in /opt/conda/lib/python3.10/site-packages (from tensorflowjs) (1.8.1)\r\n",
      "Requirement already satisfied: six<2,>=1.16.0 in /opt/conda/lib/python3.10/site-packages (from tensorflowjs) (1.16.0)\r\n",
      "Requirement already satisfied: tensorflow-hub>=0.16.1 in /opt/conda/lib/python3.10/site-packages (from tensorflowjs) (0.16.1)\r\n",
      "Collecting packaging~=23.1 (from tensorflowjs)\r\n",
      "  Downloading packaging-23.2-py3-none-any.whl.metadata (3.2 kB)\r\n",
      "Requirement already satisfied: numpy>=1.22 in /opt/conda/lib/python3.10/site-packages (from flax>=0.7.2->tensorflowjs) (1.26.4)\r\n",
      "Requirement already satisfied: msgpack in /opt/conda/lib/python3.10/site-packages (from flax>=0.7.2->tensorflowjs) (1.0.7)\r\n",
      "Requirement already satisfied: optax in /opt/conda/lib/python3.10/site-packages (from flax>=0.7.2->tensorflowjs) (0.2.2)\r\n",
      "Requirement already satisfied: orbax-checkpoint in /opt/conda/lib/python3.10/site-packages (from flax>=0.7.2->tensorflowjs) (0.5.14)\r\n",
      "Requirement already satisfied: tensorstore in /opt/conda/lib/python3.10/site-packages (from flax>=0.7.2->tensorflowjs) (0.1.59)\r\n",
      "Requirement already satisfied: rich>=11.1 in /opt/conda/lib/python3.10/site-packages (from flax>=0.7.2->tensorflowjs) (13.7.0)\r\n",
      "Requirement already satisfied: typing-extensions>=4.2 in /opt/conda/lib/python3.10/site-packages (from flax>=0.7.2->tensorflowjs) (4.9.0)\r\n",
      "Requirement already satisfied: PyYAML>=5.4.1 in /opt/conda/lib/python3.10/site-packages (from flax>=0.7.2->tensorflowjs) (6.0.1)\r\n",
      "Requirement already satisfied: ml-dtypes>=0.2.0 in /opt/conda/lib/python3.10/site-packages (from jax>=0.4.13->tensorflowjs) (0.2.0)\r\n",
      "Requirement already satisfied: opt-einsum in /opt/conda/lib/python3.10/site-packages (from jax>=0.4.13->tensorflowjs) (3.3.0)\r\n",
      "Requirement already satisfied: scipy>=1.9 in /opt/conda/lib/python3.10/site-packages (from jax>=0.4.13->tensorflowjs) (1.11.4)\r\n",
      "Requirement already satisfied: absl-py>=1.0.0 in /opt/conda/lib/python3.10/site-packages (from tensorflow<3,>=2.13.0->tensorflowjs) (1.4.0)\r\n",
      "Requirement already satisfied: astunparse>=1.6.0 in /opt/conda/lib/python3.10/site-packages (from tensorflow<3,>=2.13.0->tensorflowjs) (1.6.3)\r\n",
      "Requirement already satisfied: flatbuffers>=23.5.26 in /opt/conda/lib/python3.10/site-packages (from tensorflow<3,>=2.13.0->tensorflowjs) (23.5.26)\r\n",
      "Requirement already satisfied: gast!=0.5.0,!=0.5.1,!=0.5.2,>=0.2.1 in /opt/conda/lib/python3.10/site-packages (from tensorflow<3,>=2.13.0->tensorflowjs) (0.5.4)\r\n",
      "Requirement already satisfied: google-pasta>=0.1.1 in /opt/conda/lib/python3.10/site-packages (from tensorflow<3,>=2.13.0->tensorflowjs) (0.2.0)\r\n",
      "Requirement already satisfied: h5py>=2.9.0 in /opt/conda/lib/python3.10/site-packages (from tensorflow<3,>=2.13.0->tensorflowjs) (3.10.0)\r\n",
      "Requirement already satisfied: libclang>=13.0.0 in /opt/conda/lib/python3.10/site-packages (from tensorflow<3,>=2.13.0->tensorflowjs) (16.0.6)\r\n",
      "Requirement already satisfied: protobuf!=4.21.0,!=4.21.1,!=4.21.2,!=4.21.3,!=4.21.4,!=4.21.5,<5.0.0dev,>=3.20.3 in /opt/conda/lib/python3.10/site-packages (from tensorflow<3,>=2.13.0->tensorflowjs) (3.20.3)\r\n",
      "Requirement already satisfied: setuptools in /opt/conda/lib/python3.10/site-packages (from tensorflow<3,>=2.13.0->tensorflowjs) (69.0.3)\r\n",
      "Requirement already satisfied: termcolor>=1.1.0 in /opt/conda/lib/python3.10/site-packages (from tensorflow<3,>=2.13.0->tensorflowjs) (2.4.0)\r\n",
      "Requirement already satisfied: wrapt<1.15,>=1.11.0 in /opt/conda/lib/python3.10/site-packages (from tensorflow<3,>=2.13.0->tensorflowjs) (1.14.1)\r\n",
      "Requirement already satisfied: tensorflow-io-gcs-filesystem>=0.23.1 in /opt/conda/lib/python3.10/site-packages (from tensorflow<3,>=2.13.0->tensorflowjs) (0.35.0)\r\n",
      "Requirement already satisfied: grpcio<2.0,>=1.24.3 in /opt/conda/lib/python3.10/site-packages (from tensorflow<3,>=2.13.0->tensorflowjs) (1.60.0)\r\n",
      "Requirement already satisfied: tensorboard<2.16,>=2.15 in /opt/conda/lib/python3.10/site-packages (from tensorflow<3,>=2.13.0->tensorflowjs) (2.15.1)\r\n",
      "Requirement already satisfied: tensorflow-estimator<2.16,>=2.15.0 in /opt/conda/lib/python3.10/site-packages (from tensorflow<3,>=2.13.0->tensorflowjs) (2.15.0)\r\n",
      "Collecting keras<2.16,>=2.15.0 (from tensorflow<3,>=2.13.0->tensorflowjs)\r\n",
      "  Downloading keras-2.15.0-py3-none-any.whl.metadata (2.4 kB)\r\n",
      "Requirement already satisfied: pandas in /opt/conda/lib/python3.10/site-packages (from tensorflow-decision-forests>=1.5.0->tensorflowjs) (2.2.2)\r\n",
      "Requirement already satisfied: wheel in /opt/conda/lib/python3.10/site-packages (from tensorflow-decision-forests>=1.5.0->tensorflowjs) (0.42.0)\r\n",
      "Collecting wurlitzer (from tensorflow-decision-forests>=1.5.0->tensorflowjs)\r\n",
      "  Downloading wurlitzer-3.1.0-py3-none-any.whl.metadata (2.5 kB)\r\n",
      "Requirement already satisfied: markdown-it-py>=2.2.0 in /opt/conda/lib/python3.10/site-packages (from rich>=11.1->flax>=0.7.2->tensorflowjs) (3.0.0)\r\n",
      "Requirement already satisfied: pygments<3.0.0,>=2.13.0 in /opt/conda/lib/python3.10/site-packages (from rich>=11.1->flax>=0.7.2->tensorflowjs) (2.17.2)\r\n",
      "Requirement already satisfied: google-auth<3,>=1.6.3 in /opt/conda/lib/python3.10/site-packages (from tensorboard<2.16,>=2.15->tensorflow<3,>=2.13.0->tensorflowjs) (2.26.1)\r\n",
      "Requirement already satisfied: google-auth-oauthlib<2,>=0.5 in /opt/conda/lib/python3.10/site-packages (from tensorboard<2.16,>=2.15->tensorflow<3,>=2.13.0->tensorflowjs) (1.2.0)\r\n",
      "Requirement already satisfied: markdown>=2.6.8 in /opt/conda/lib/python3.10/site-packages (from tensorboard<2.16,>=2.15->tensorflow<3,>=2.13.0->tensorflowjs) (3.5.2)\r\n",
      "Requirement already satisfied: requests<3,>=2.21.0 in /opt/conda/lib/python3.10/site-packages (from tensorboard<2.16,>=2.15->tensorflow<3,>=2.13.0->tensorflowjs) (2.31.0)\r\n",
      "Requirement already satisfied: tensorboard-data-server<0.8.0,>=0.7.0 in /opt/conda/lib/python3.10/site-packages (from tensorboard<2.16,>=2.15->tensorflow<3,>=2.13.0->tensorflowjs) (0.7.2)\r\n",
      "Requirement already satisfied: werkzeug>=1.0.1 in /opt/conda/lib/python3.10/site-packages (from tensorboard<2.16,>=2.15->tensorflow<3,>=2.13.0->tensorflowjs) (3.0.3)\r\n",
      "Requirement already satisfied: chex>=0.1.86 in /opt/conda/lib/python3.10/site-packages (from optax->flax>=0.7.2->tensorflowjs) (0.1.86)\r\n",
      "Requirement already satisfied: etils[epath,epy] in /opt/conda/lib/python3.10/site-packages (from orbax-checkpoint->flax>=0.7.2->tensorflowjs) (1.6.0)\r\n",
      "Requirement already satisfied: nest_asyncio in /opt/conda/lib/python3.10/site-packages (from orbax-checkpoint->flax>=0.7.2->tensorflowjs) (1.5.8)\r\n",
      "INFO: pip is looking at multiple versions of tensorstore to determine which version is compatible with other requirements. This could take a while.\r\n",
      "Collecting tensorstore (from flax>=0.7.2->tensorflowjs)\r\n",
      "  Downloading tensorstore-0.1.60-cp310-cp310-manylinux_2_17_x86_64.manylinux2014_x86_64.whl.metadata (3.0 kB)\r\n",
      "  Downloading tensorstore-0.1.58-cp310-cp310-manylinux_2_17_x86_64.manylinux2014_x86_64.whl.metadata (3.0 kB)\r\n",
      "  Downloading tensorstore-0.1.57-cp310-cp310-manylinux_2_17_x86_64.manylinux2014_x86_64.whl.metadata (3.0 kB)\r\n",
      "  Downloading tensorstore-0.1.56-cp310-cp310-manylinux_2_17_x86_64.manylinux2014_x86_64.whl.metadata (3.0 kB)\r\n",
      "  Downloading tensorstore-0.1.55-cp310-cp310-manylinux_2_17_x86_64.manylinux2014_x86_64.whl.metadata (3.0 kB)\r\n",
      "  Downloading tensorstore-0.1.54-cp310-cp310-manylinux_2_17_x86_64.manylinux2014_x86_64.whl.metadata (3.0 kB)\r\n",
      "  Downloading tensorstore-0.1.53-cp310-cp310-manylinux_2_17_x86_64.manylinux2014_x86_64.whl.metadata (3.0 kB)\r\n",
      "INFO: pip is still looking at multiple versions of tensorstore to determine which version is compatible with other requirements. This could take a while.\r\n",
      "  Downloading tensorstore-0.1.52-cp310-cp310-manylinux_2_17_x86_64.manylinux2014_x86_64.whl.metadata (3.0 kB)\r\n",
      "  Downloading tensorstore-0.1.51-cp310-cp310-manylinux_2_17_x86_64.manylinux2014_x86_64.whl.metadata (3.0 kB)\r\n",
      "Collecting orbax-checkpoint (from flax>=0.7.2->tensorflowjs)\r\n",
      "  Downloading orbax_checkpoint-0.5.15-py3-none-any.whl.metadata (1.8 kB)\r\n",
      "INFO: This is taking longer than usual. You might need to provide the dependency resolver with stricter constraints to reduce runtime. See https://pip.pypa.io/warnings/backtracking for guidance. If you want to abort this run, press Ctrl + C.\r\n",
      "Collecting tensorstore (from flax>=0.7.2->tensorflowjs)\r\n",
      "  Downloading tensorstore-0.1.50-cp310-cp310-manylinux_2_17_x86_64.manylinux2014_x86_64.whl.metadata (3.0 kB)\r\n",
      "  Downloading tensorstore-0.1.49-cp310-cp310-manylinux_2_17_x86_64.manylinux2014_x86_64.whl.metadata (3.0 kB)\r\n",
      "  Downloading tensorstore-0.1.48-cp310-cp310-manylinux_2_17_x86_64.manylinux2014_x86_64.whl.metadata (2.9 kB)\r\n",
      "  Downloading tensorstore-0.1.47-cp310-cp310-manylinux_2_17_x86_64.manylinux2014_x86_64.whl.metadata (2.9 kB)\r\n",
      "  Downloading tensorstore-0.1.46-cp310-cp310-manylinux_2_17_x86_64.manylinux2014_x86_64.whl.metadata (2.9 kB)\r\n",
      "  Downloading tensorstore-0.1.45-cp310-cp310-manylinux_2_17_x86_64.manylinux2014_x86_64.whl.metadata (2.9 kB)\r\n",
      "Collecting orbax-checkpoint (from flax>=0.7.2->tensorflowjs)\r\n",
      "  Downloading orbax_checkpoint-0.5.14-py3-none-any.whl.metadata (1.8 kB)\r\n",
      "  Downloading orbax_checkpoint-0.5.13-py3-none-any.whl.metadata (1.8 kB)\r\n",
      "  Downloading orbax_checkpoint-0.5.12-py3-none-any.whl.metadata (1.8 kB)\r\n",
      "  Downloading orbax_checkpoint-0.5.11-py3-none-any.whl.metadata (1.8 kB)\r\n",
      "  Downloading orbax_checkpoint-0.5.10-py3-none-any.whl.metadata (1.8 kB)\r\n",
      "  Downloading orbax_checkpoint-0.5.9-py3-none-any.whl.metadata (1.7 kB)\r\n",
      "  Downloading orbax_checkpoint-0.5.8-py3-none-any.whl.metadata (1.7 kB)\r\n",
      "  Downloading orbax_checkpoint-0.5.7-py3-none-any.whl.metadata (1.7 kB)\r\n",
      "  Downloading orbax_checkpoint-0.5.6-py3-none-any.whl.metadata (1.7 kB)\r\n",
      "  Downloading orbax_checkpoint-0.5.5-py3-none-any.whl.metadata (1.7 kB)\r\n",
      "  Downloading orbax_checkpoint-0.5.4-py3-none-any.whl.metadata (1.7 kB)\r\n",
      "  Downloading orbax_checkpoint-0.5.3-py3-none-any.whl.metadata (1.7 kB)\r\n",
      "  Downloading orbax_checkpoint-0.5.2-py3-none-any.whl.metadata (1.7 kB)\r\n",
      "  Downloading orbax_checkpoint-0.5.1-py3-none-any.whl.metadata (1.7 kB)\r\n",
      "  Downloading orbax_checkpoint-0.5.0-py3-none-any.whl.metadata (1.7 kB)\r\n",
      "  Downloading orbax_checkpoint-0.4.8-py3-none-any.whl.metadata (1.7 kB)\r\n",
      "  Downloading orbax_checkpoint-0.4.7-py3-none-any.whl.metadata (1.7 kB)\r\n",
      "  Downloading orbax_checkpoint-0.4.6-py3-none-any.whl.metadata (1.7 kB)\r\n",
      "  Downloading orbax_checkpoint-0.4.5-py3-none-any.whl.metadata (1.7 kB)\r\n",
      "  Downloading orbax_checkpoint-0.4.4-py3-none-any.whl.metadata (1.7 kB)\r\n",
      "Requirement already satisfied: python-dateutil>=2.8.2 in /opt/conda/lib/python3.10/site-packages (from pandas->tensorflow-decision-forests>=1.5.0->tensorflowjs) (2.9.0.post0)\r\n",
      "Requirement already satisfied: pytz>=2020.1 in /opt/conda/lib/python3.10/site-packages (from pandas->tensorflow-decision-forests>=1.5.0->tensorflowjs) (2023.3.post1)\r\n",
      "Requirement already satisfied: tzdata>=2022.7 in /opt/conda/lib/python3.10/site-packages (from pandas->tensorflow-decision-forests>=1.5.0->tensorflowjs) (2023.4)\r\n",
      "Requirement already satisfied: toolz>=0.9.0 in /opt/conda/lib/python3.10/site-packages (from chex>=0.1.86->optax->flax>=0.7.2->tensorflowjs) (0.12.1)\r\n",
      "Requirement already satisfied: cachetools<6.0,>=2.0.0 in /opt/conda/lib/python3.10/site-packages (from google-auth<3,>=1.6.3->tensorboard<2.16,>=2.15->tensorflow<3,>=2.13.0->tensorflowjs) (4.2.4)\r\n",
      "Requirement already satisfied: pyasn1-modules>=0.2.1 in /opt/conda/lib/python3.10/site-packages (from google-auth<3,>=1.6.3->tensorboard<2.16,>=2.15->tensorflow<3,>=2.13.0->tensorflowjs) (0.3.0)\r\n",
      "Requirement already satisfied: rsa<5,>=3.1.4 in /opt/conda/lib/python3.10/site-packages (from google-auth<3,>=1.6.3->tensorboard<2.16,>=2.15->tensorflow<3,>=2.13.0->tensorflowjs) (4.9)\r\n",
      "Requirement already satisfied: requests-oauthlib>=0.7.0 in /opt/conda/lib/python3.10/site-packages (from google-auth-oauthlib<2,>=0.5->tensorboard<2.16,>=2.15->tensorflow<3,>=2.13.0->tensorflowjs) (1.3.1)\r\n",
      "Requirement already satisfied: mdurl~=0.1 in /opt/conda/lib/python3.10/site-packages (from markdown-it-py>=2.2.0->rich>=11.1->flax>=0.7.2->tensorflowjs) (0.1.2)\r\n",
      "Requirement already satisfied: charset-normalizer<4,>=2 in /opt/conda/lib/python3.10/site-packages (from requests<3,>=2.21.0->tensorboard<2.16,>=2.15->tensorflow<3,>=2.13.0->tensorflowjs) (3.3.2)\r\n",
      "Requirement already satisfied: idna<4,>=2.5 in /opt/conda/lib/python3.10/site-packages (from requests<3,>=2.21.0->tensorboard<2.16,>=2.15->tensorflow<3,>=2.13.0->tensorflowjs) (3.6)\r\n",
      "Requirement already satisfied: urllib3<3,>=1.21.1 in /opt/conda/lib/python3.10/site-packages (from requests<3,>=2.21.0->tensorboard<2.16,>=2.15->tensorflow<3,>=2.13.0->tensorflowjs) (1.26.18)\r\n",
      "Requirement already satisfied: certifi>=2017.4.17 in /opt/conda/lib/python3.10/site-packages (from requests<3,>=2.21.0->tensorboard<2.16,>=2.15->tensorflow<3,>=2.13.0->tensorflowjs) (2024.2.2)\r\n",
      "Requirement already satisfied: MarkupSafe>=2.1.1 in /opt/conda/lib/python3.10/site-packages (from werkzeug>=1.0.1->tensorboard<2.16,>=2.15->tensorflow<3,>=2.13.0->tensorflowjs) (2.1.3)\r\n",
      "Requirement already satisfied: fsspec in /opt/conda/lib/python3.10/site-packages (from etils[epath,epy]->orbax-checkpoint->flax>=0.7.2->tensorflowjs) (2024.3.1)\r\n",
      "Requirement already satisfied: zipp in /opt/conda/lib/python3.10/site-packages (from etils[epath,epy]->orbax-checkpoint->flax>=0.7.2->tensorflowjs) (3.17.0)\r\n",
      "Requirement already satisfied: pyasn1<0.6.0,>=0.4.6 in /opt/conda/lib/python3.10/site-packages (from pyasn1-modules>=0.2.1->google-auth<3,>=1.6.3->tensorboard<2.16,>=2.15->tensorflow<3,>=2.13.0->tensorflowjs) (0.5.1)\r\n",
      "Requirement already satisfied: oauthlib>=3.0.0 in /opt/conda/lib/python3.10/site-packages (from requests-oauthlib>=0.7.0->google-auth-oauthlib<2,>=0.5->tensorboard<2.16,>=2.15->tensorflow<3,>=2.13.0->tensorflowjs) (3.2.2)\r\n",
      "Downloading tensorflowjs-4.20.0-py3-none-any.whl (89 kB)\r\n",
      "\u001b[2K   \u001b[90m━━━━━━━━━━━━━━━━━━━━━━━━━━━━━━━━━━━━━━━━\u001b[0m \u001b[32m89.1/89.1 kB\u001b[0m \u001b[31m4.0 MB/s\u001b[0m eta \u001b[36m0:00:00\u001b[0m\r\n",
      "\u001b[?25hDownloading packaging-23.2-py3-none-any.whl (53 kB)\r\n",
      "\u001b[2K   \u001b[90m━━━━━━━━━━━━━━━━━━━━━━━━━━━━━━━━━━━━━━━━\u001b[0m \u001b[32m53.0/53.0 kB\u001b[0m \u001b[31m2.3 MB/s\u001b[0m eta \u001b[36m0:00:00\u001b[0m\r\n",
      "\u001b[?25hDownloading keras-2.15.0-py3-none-any.whl (1.7 MB)\r\n",
      "\u001b[2K   \u001b[90m━━━━━━━━━━━━━━━━━━━━━━━━━━━━━━━━━━━━━━━━\u001b[0m \u001b[32m1.7/1.7 MB\u001b[0m \u001b[31m36.2 MB/s\u001b[0m eta \u001b[36m0:00:00\u001b[0m\r\n",
      "\u001b[?25hDownloading tensorstore-0.1.45-cp310-cp310-manylinux_2_17_x86_64.manylinux2014_x86_64.whl (13.5 MB)\r\n",
      "\u001b[2K   \u001b[90m━━━━━━━━━━━━━━━━━━━━━━━━━━━━━━━━━━━━━━━━\u001b[0m \u001b[32m13.5/13.5 MB\u001b[0m \u001b[31m56.3 MB/s\u001b[0m eta \u001b[36m0:00:00\u001b[0m\r\n",
      "\u001b[?25hDownloading orbax_checkpoint-0.4.4-py3-none-any.whl (123 kB)\r\n",
      "\u001b[2K   \u001b[90m━━━━━━━━━━━━━━━━━━━━━━━━━━━━━━━━━━━━━━━━\u001b[0m \u001b[32m124.0/124.0 kB\u001b[0m \u001b[31m5.3 MB/s\u001b[0m eta \u001b[36m0:00:00\u001b[0m\r\n",
      "\u001b[?25hDownloading wurlitzer-3.1.0-py3-none-any.whl (8.4 kB)\r\n",
      "\u001b[33mWARNING: Error parsing requirements for aiohttp: [Errno 2] No such file or directory: '/opt/conda/lib/python3.10/site-packages/aiohttp-3.9.1.dist-info/METADATA'\u001b[0m\u001b[33m\r\n",
      "\u001b[0mInstalling collected packages: wurlitzer, tensorstore, packaging, keras, orbax-checkpoint, tensorflowjs\r\n",
      "  Attempting uninstall: tensorstore\r\n",
      "    Found existing installation: tensorstore 0.1.59\r\n",
      "    Uninstalling tensorstore-0.1.59:\r\n",
      "      Successfully uninstalled tensorstore-0.1.59\r\n",
      "  Attempting uninstall: packaging\r\n",
      "    Found existing installation: packaging 21.3\r\n",
      "    Uninstalling packaging-21.3:\r\n",
      "      Successfully uninstalled packaging-21.3\r\n",
      "  Attempting uninstall: keras\r\n",
      "    Found existing installation: keras 3.3.3\r\n",
      "    Uninstalling keras-3.3.3:\r\n",
      "      Successfully uninstalled keras-3.3.3\r\n",
      "  Attempting uninstall: orbax-checkpoint\r\n",
      "    Found existing installation: orbax-checkpoint 0.5.14\r\n",
      "    Uninstalling orbax-checkpoint-0.5.14:\r\n",
      "      Successfully uninstalled orbax-checkpoint-0.5.14\r\n",
      "\u001b[31mERROR: pip's dependency resolver does not currently take into account all the packages that are installed. This behaviour is the source of the following dependency conflicts.\r\n",
      "datasets 2.19.1 requires aiohttp, which is not installed.\r\n",
      "fury 0.10.0 requires aiohttp>=3.8.4, which is not installed.\r\n",
      "jupyter-server-proxy 4.1.0 requires aiohttp, which is not installed.\r\n",
      "keras-cv 0.9.0 requires keras-core, which is not installed.\r\n",
      "keras-nlp 0.12.1 requires keras-core, which is not installed.\r\n",
      "google-cloud-bigquery 2.34.4 requires packaging<22.0dev,>=14.3, but you have packaging 23.2 which is incompatible.\r\n",
      "jupyterlab 4.2.1 requires jupyter-lsp>=2.0.0, but you have jupyter-lsp 1.5.1 which is incompatible.\r\n",
      "jupyterlab-lsp 5.1.0 requires jupyter-lsp>=2.0.0, but you have jupyter-lsp 1.5.1 which is incompatible.\r\n",
      "libpysal 4.9.2 requires shapely>=2.0.1, but you have shapely 1.8.5.post1 which is incompatible.\r\n",
      "momepy 0.7.0 requires shapely>=2, but you have shapely 1.8.5.post1 which is incompatible.\r\n",
      "osmnx 1.9.3 requires shapely>=2.0, but you have shapely 1.8.5.post1 which is incompatible.\r\n",
      "spopt 0.6.0 requires shapely>=2.0.1, but you have shapely 1.8.5.post1 which is incompatible.\r\n",
      "ydata-profiling 4.6.4 requires numpy<1.26,>=1.16.0, but you have numpy 1.26.4 which is incompatible.\u001b[0m\u001b[31m\r\n",
      "\u001b[0mSuccessfully installed keras-2.15.0 orbax-checkpoint-0.4.4 packaging-23.2 tensorflowjs-4.20.0 tensorstore-0.1.45 wurlitzer-3.1.0\r\n"
     ]
    }
   ],
   "source": [
    "!pip install gdown\n",
    "!pip install unzip\n",
    "!pip install tensorflow==2.16\n",
    "!pip install PIL\n",
    "!pip install pydot\n",
    "!pip install pathlib\n",
    "!pip install keras\n",
    "!pip install tensorflowjs"
   ]
  },
  {
   "cell_type": "code",
   "execution_count": 2,
   "id": "95cfa712",
   "metadata": {
    "execution": {
     "iopub.execute_input": "2024-06-08T15:53:10.971868Z",
     "iopub.status.busy": "2024-06-08T15:53:10.971374Z",
     "iopub.status.idle": "2024-06-08T15:53:30.007984Z",
     "shell.execute_reply": "2024-06-08T15:53:30.006220Z"
    },
    "id": "OajGXcATWFrh",
    "papermill": {
     "duration": 19.062708,
     "end_time": "2024-06-08T15:53:30.011123",
     "exception": false,
     "start_time": "2024-06-08T15:53:10.948415",
     "status": "completed"
    },
    "tags": []
   },
   "outputs": [
    {
     "name": "stderr",
     "output_type": "stream",
     "text": [
      "2024-06-08 15:53:13.490824: E external/local_xla/xla/stream_executor/cuda/cuda_dnn.cc:9261] Unable to register cuDNN factory: Attempting to register factory for plugin cuDNN when one has already been registered\n",
      "2024-06-08 15:53:13.490983: E external/local_xla/xla/stream_executor/cuda/cuda_fft.cc:607] Unable to register cuFFT factory: Attempting to register factory for plugin cuFFT when one has already been registered\n",
      "2024-06-08 15:53:13.676665: E external/local_xla/xla/stream_executor/cuda/cuda_blas.cc:1515] Unable to register cuBLAS factory: Attempting to register factory for plugin cuBLAS when one has already been registered\n"
     ]
    }
   ],
   "source": [
    "import tensorflow as tf\n",
    "from tensorflow.python.keras.utils.vis_utils import plot_model\n",
    "import pydot\n",
    "from tensorflow.keras.models import Model\n",
    "import PIL\n",
    "import PIL.Image\n",
    "import gdown\n",
    "import pathlib\n",
    "from tensorflow.keras.preprocessing.image import ImageDataGenerator\n",
    "import matplotlib.pyplot as plt\n",
    "import numpy as np\n",
    "import tensorflowjs as tfjs"
   ]
  },
  {
   "cell_type": "code",
   "execution_count": 3,
   "id": "4e49b908",
   "metadata": {
    "execution": {
     "iopub.execute_input": "2024-06-08T15:53:30.055578Z",
     "iopub.status.busy": "2024-06-08T15:53:30.054043Z",
     "iopub.status.idle": "2024-06-08T15:53:38.350808Z",
     "shell.execute_reply": "2024-06-08T15:53:38.349071Z"
    },
    "id": "TcnI2DwQ4Ahs",
    "outputId": "abcdaa7d-0c75-4965-fb79-30b43f577d85",
    "papermill": {
     "duration": 8.322274,
     "end_time": "2024-06-08T15:53:38.354123",
     "exception": false,
     "start_time": "2024-06-08T15:53:30.031849",
     "status": "completed"
    },
    "tags": []
   },
   "outputs": [
    {
     "name": "stdout",
     "output_type": "stream",
     "text": [
      "/opt/conda/lib/python3.10/site-packages/gdown/__main__.py:140: FutureWarning: Option `--id` was deprecated in version 4.3.1 and will be removed in 5.0. You don't need to pass it anymore to use a file ID.\r\n",
      "  warnings.warn(\r\n",
      "Downloading...\r\n",
      "From: https://drive.google.com/uc?id=1YCYOnlJgBU_uHqEgNYOJi4BxR2PUHboO\r\n",
      "To: /kaggle/working/Patches.zip\r\n",
      "100%|██████████████████████████████████████| 23.0M/23.0M [00:00<00:00, 54.4MB/s]\r\n"
     ]
    }
   ],
   "source": [
    "!gdown --id 1YCYOnlJgBU_uHqEgNYOJi4BxR2PUHboO"
   ]
  },
  {
   "cell_type": "code",
   "execution_count": 4,
   "id": "d9e99618",
   "metadata": {
    "execution": {
     "iopub.execute_input": "2024-06-08T15:53:38.401466Z",
     "iopub.status.busy": "2024-06-08T15:53:38.399678Z",
     "iopub.status.idle": "2024-06-08T15:53:39.825246Z",
     "shell.execute_reply": "2024-06-08T15:53:39.823112Z"
    },
    "id": "TcZ2S-EO3oLO",
    "papermill": {
     "duration": 1.453817,
     "end_time": "2024-06-08T15:53:39.828864",
     "exception": false,
     "start_time": "2024-06-08T15:53:38.375047",
     "status": "completed"
    },
    "tags": []
   },
   "outputs": [],
   "source": [
    "!unzip -q './Patches.zip'"
   ]
  },
  {
   "cell_type": "code",
   "execution_count": 5,
   "id": "9485d705",
   "metadata": {
    "execution": {
     "iopub.execute_input": "2024-06-08T15:53:39.877985Z",
     "iopub.status.busy": "2024-06-08T15:53:39.877488Z",
     "iopub.status.idle": "2024-06-08T15:53:39.884784Z",
     "shell.execute_reply": "2024-06-08T15:53:39.883321Z"
    },
    "id": "WeqWpbbrICPq",
    "papermill": {
     "duration": 0.035022,
     "end_time": "2024-06-08T15:53:39.887518",
     "exception": false,
     "start_time": "2024-06-08T15:53:39.852496",
     "status": "completed"
    },
    "tags": []
   },
   "outputs": [],
   "source": [
    "data_dir = pathlib.Path(\"./Patches\")"
   ]
  },
  {
   "cell_type": "code",
   "execution_count": 6,
   "id": "31644cb5",
   "metadata": {
    "execution": {
     "iopub.execute_input": "2024-06-08T15:53:39.931455Z",
     "iopub.status.busy": "2024-06-08T15:53:39.930983Z",
     "iopub.status.idle": "2024-06-08T15:53:39.937023Z",
     "shell.execute_reply": "2024-06-08T15:53:39.935468Z"
    },
    "id": "yZ__L8W_IFSg",
    "papermill": {
     "duration": 0.031807,
     "end_time": "2024-06-08T15:53:39.940240",
     "exception": false,
     "start_time": "2024-06-08T15:53:39.908433",
     "status": "completed"
    },
    "tags": []
   },
   "outputs": [],
   "source": [
    "batch_size = 64\n",
    "img_height = 224\n",
    "img_width = 224"
   ]
  },
  {
   "cell_type": "code",
   "execution_count": 7,
   "id": "5a1f0167",
   "metadata": {
    "execution": {
     "iopub.execute_input": "2024-06-08T15:53:39.984947Z",
     "iopub.status.busy": "2024-06-08T15:53:39.984439Z",
     "iopub.status.idle": "2024-06-08T15:53:40.244526Z",
     "shell.execute_reply": "2024-06-08T15:53:40.243204Z"
    },
    "id": "QyNMy2v6H5qA",
    "outputId": "abf15251-fe68-4050-b3ea-cd021bcf09d2",
    "papermill": {
     "duration": 0.286073,
     "end_time": "2024-06-08T15:53:40.247841",
     "exception": false,
     "start_time": "2024-06-08T15:53:39.961768",
     "status": "completed"
    },
    "tags": []
   },
   "outputs": [
    {
     "name": "stdout",
     "output_type": "stream",
     "text": [
      "Found 1222 files belonging to 3 classes.\n",
      "Using 978 files for training.\n"
     ]
    }
   ],
   "source": [
    "train_ds = tf.keras.utils.image_dataset_from_directory(\n",
    "  data_dir,\n",
    "  validation_split=0.2,\n",
    "  subset=\"training\",\n",
    "  seed=123,\n",
    "  image_size=(img_height, img_width),\n",
    "  label_mode='categorical',\n",
    "  batch_size=batch_size)"
   ]
  },
  {
   "cell_type": "code",
   "execution_count": 8,
   "id": "7b7b7190",
   "metadata": {
    "execution": {
     "iopub.execute_input": "2024-06-08T15:53:40.293847Z",
     "iopub.status.busy": "2024-06-08T15:53:40.293419Z",
     "iopub.status.idle": "2024-06-08T15:53:40.472126Z",
     "shell.execute_reply": "2024-06-08T15:53:40.470817Z"
    },
    "id": "OS-z684QH8_D",
    "outputId": "d4ae24e1-4c8b-445d-f50e-1da1280bf431",
    "papermill": {
     "duration": 0.205495,
     "end_time": "2024-06-08T15:53:40.475056",
     "exception": false,
     "start_time": "2024-06-08T15:53:40.269561",
     "status": "completed"
    },
    "tags": []
   },
   "outputs": [
    {
     "name": "stdout",
     "output_type": "stream",
     "text": [
      "Found 1222 files belonging to 3 classes.\n",
      "Using 244 files for validation.\n"
     ]
    }
   ],
   "source": [
    "val_ds = tf.keras.utils.image_dataset_from_directory(\n",
    "  data_dir,\n",
    "  validation_split=0.2,\n",
    "  subset=\"validation\",\n",
    "  seed=123,\n",
    "  image_size=(img_height, img_width),\n",
    "  label_mode='categorical',\n",
    "  batch_size=batch_size)"
   ]
  },
  {
   "cell_type": "code",
   "execution_count": 9,
   "id": "01a253aa",
   "metadata": {
    "execution": {
     "iopub.execute_input": "2024-06-08T15:53:40.520286Z",
     "iopub.status.busy": "2024-06-08T15:53:40.519683Z",
     "iopub.status.idle": "2024-06-08T15:53:40.527311Z",
     "shell.execute_reply": "2024-06-08T15:53:40.525711Z"
    },
    "id": "NIyjuQfpH_JR",
    "outputId": "85e929c2-bdc3-4328-8cd5-ee79ca8b8aec",
    "papermill": {
     "duration": 0.034204,
     "end_time": "2024-06-08T15:53:40.530520",
     "exception": false,
     "start_time": "2024-06-08T15:53:40.496316",
     "status": "completed"
    },
    "tags": []
   },
   "outputs": [
    {
     "name": "stdout",
     "output_type": "stream",
     "text": [
      "['Abnormal(Ulcer)', 'Normal(Healthy skin)', 'Wound Images']\n"
     ]
    }
   ],
   "source": [
    "class_names = train_ds.class_names\n",
    "print(class_names)"
   ]
  },
  {
   "cell_type": "code",
   "execution_count": 10,
   "id": "0b81d99b",
   "metadata": {
    "execution": {
     "iopub.execute_input": "2024-06-08T15:53:40.576873Z",
     "iopub.status.busy": "2024-06-08T15:53:40.576450Z",
     "iopub.status.idle": "2024-06-08T15:53:40.605129Z",
     "shell.execute_reply": "2024-06-08T15:53:40.603556Z"
    },
    "id": "yjzrDpQkjkKK",
    "papermill": {
     "duration": 0.055458,
     "end_time": "2024-06-08T15:53:40.608282",
     "exception": false,
     "start_time": "2024-06-08T15:53:40.552824",
     "status": "completed"
    },
    "tags": []
   },
   "outputs": [],
   "source": [
    "img_augmentation_layers =tf.keras.Sequential([\n",
    "    tf.keras.layers.RandomRotation(factor=0.15),\n",
    "    tf.keras.layers.RandomTranslation(height_factor=0.1, width_factor=0.1),\n",
    "    tf.keras.layers.RandomFlip(),\n",
    "    tf.keras.layers.RandomContrast(factor=0.1),\n",
    "])\n"
   ]
  },
  {
   "cell_type": "code",
   "execution_count": 11,
   "id": "0db1755a",
   "metadata": {
    "execution": {
     "iopub.execute_input": "2024-06-08T15:53:40.655307Z",
     "iopub.status.busy": "2024-06-08T15:53:40.654884Z",
     "iopub.status.idle": "2024-06-08T15:53:40.661021Z",
     "shell.execute_reply": "2024-06-08T15:53:40.659522Z"
    },
    "id": "KB6o6Qeujl3g",
    "papermill": {
     "duration": 0.032931,
     "end_time": "2024-06-08T15:53:40.664147",
     "exception": false,
     "start_time": "2024-06-08T15:53:40.631216",
     "status": "completed"
    },
    "tags": []
   },
   "outputs": [],
   "source": [
    "# def format_label(label):\n",
    "#     string_label = label_info.int2str(label)\n",
    "#     return string_label.split(\"-\")[1]\n",
    "\n",
    "# label_info = train_ds.class_names\n",
    "# for image, _ in train_ds.take(1):\n",
    "#   plt.figure(figsize=(10, 10))\n",
    "#   first_image = image[0]\n",
    "#   for i in range(9):\n",
    "#     ax = plt.subplot(3, 3, i + 1)\n",
    "#     augmented_image = img_augmentation_layers(tf.expand_dims(first_image, 0))\n",
    "#     plt.imshow(augmented_image[0] / 255)\n",
    "#     plt.axis('off')"
   ]
  },
  {
   "cell_type": "code",
   "execution_count": 12,
   "id": "e5b8c06d",
   "metadata": {
    "execution": {
     "iopub.execute_input": "2024-06-08T15:53:40.709495Z",
     "iopub.status.busy": "2024-06-08T15:53:40.709060Z",
     "iopub.status.idle": "2024-06-08T15:53:41.572705Z",
     "shell.execute_reply": "2024-06-08T15:53:41.571253Z"
    },
    "id": "8g2jXUgkI7py",
    "papermill": {
     "duration": 0.889381,
     "end_time": "2024-06-08T15:53:41.575595",
     "exception": false,
     "start_time": "2024-06-08T15:53:40.686214",
     "status": "completed"
    },
    "tags": []
   },
   "outputs": [],
   "source": [
    "train_ds = train_ds.map(\n",
    "    lambda x, y: (img_augmentation_layers(x), y),\n",
    "    num_parallel_calls=tf.data.AUTOTUNE\n",
    ")"
   ]
  },
  {
   "cell_type": "code",
   "execution_count": 13,
   "id": "00fff8a0",
   "metadata": {
    "execution": {
     "iopub.execute_input": "2024-06-08T15:53:41.620091Z",
     "iopub.status.busy": "2024-06-08T15:53:41.619686Z",
     "iopub.status.idle": "2024-06-08T15:53:41.627325Z",
     "shell.execute_reply": "2024-06-08T15:53:41.625853Z"
    },
    "id": "9SkQ9MqSwa-n",
    "papermill": {
     "duration": 0.033096,
     "end_time": "2024-06-08T15:53:41.630037",
     "exception": false,
     "start_time": "2024-06-08T15:53:41.596941",
     "status": "completed"
    },
    "tags": []
   },
   "outputs": [],
   "source": [
    "def plot_hist(hist):\n",
    "    plt.plot(hist.history[\"accuracy\"])\n",
    "    plt.plot(hist.history[\"val_accuracy\"])\n",
    "    plt.title(\"model accuracy\")\n",
    "    plt.ylabel(\"accuracy\")\n",
    "    plt.xlabel(\"epoch\")\n",
    "    plt.legend([\"train\", \"validation\"], loc=\"upper left\")\n",
    "    plt.show()"
   ]
  },
  {
   "cell_type": "code",
   "execution_count": 14,
   "id": "27ad259c",
   "metadata": {
    "execution": {
     "iopub.execute_input": "2024-06-08T15:53:41.676996Z",
     "iopub.status.busy": "2024-06-08T15:53:41.676580Z",
     "iopub.status.idle": "2024-06-08T15:53:41.684000Z",
     "shell.execute_reply": "2024-06-08T15:53:41.682681Z"
    },
    "id": "1lTQz6dq9tbc",
    "papermill": {
     "duration": 0.034191,
     "end_time": "2024-06-08T15:53:41.686957",
     "exception": false,
     "start_time": "2024-06-08T15:53:41.652766",
     "status": "completed"
    },
    "tags": []
   },
   "outputs": [],
   "source": [
    "class customcallback(tf.keras.callbacks.Callback):\n",
    "    def on_epoch_end(self, epoch, logs={}):\n",
    "        if (logs.get('accuracy') > 0.99):\n",
    "            print(\"\\naccuracy >   0.99\")\n",
    "            self.model.stop_training = True"
   ]
  },
  {
   "cell_type": "code",
   "execution_count": 15,
   "id": "bad32e91",
   "metadata": {
    "execution": {
     "iopub.execute_input": "2024-06-08T15:53:41.733106Z",
     "iopub.status.busy": "2024-06-08T15:53:41.732632Z",
     "iopub.status.idle": "2024-06-08T15:53:41.743127Z",
     "shell.execute_reply": "2024-06-08T15:53:41.741763Z"
    },
    "id": "VFnKw7q6wQwY",
    "papermill": {
     "duration": 0.038066,
     "end_time": "2024-06-08T15:53:41.746770",
     "exception": false,
     "start_time": "2024-06-08T15:53:41.708704",
     "status": "completed"
    },
    "tags": []
   },
   "outputs": [],
   "source": [
    "def build_model(num_classes):\n",
    "    inputs = tf.keras.layers.Input(shape=(img_height, img_width, 3))\n",
    "    model = MobileNetV3Large(include_top=False, input_tensor=inputs, weights='imagenet')\n",
    "\n",
    "    model.trainable = False\n",
    "    \n",
    "    x = tf.keras.layers.GlobalMaxPool2D(name=\"max_pool\")(model.output)\n",
    "#     x = tf.keras.layers.BatchNormalization()(x)\n",
    "\n",
    "    top_dropout_rate = 0.2\n",
    "    x = tf.keras.layers.Dropout(top_dropout_rate, name=\"top_dropout\")(x)\n",
    "    outputs = tf.keras.layers.Dense(num_classes, activation=\"softmax\", name=\"pred\")(x)\n",
    "\n",
    "    model = tf.keras.Model(inputs, outputs, name=\"EfficientNet\")\n",
    "    optimizer = tf.keras.optimizers.Adam(learning_rate=35e-3)\n",
    "    model.compile(\n",
    "        optimizer=optimizer, loss=\"categorical_crossentropy\", metrics=[\"accuracy\"]\n",
    "    )\n",
    "    return model"
   ]
  },
  {
   "cell_type": "code",
   "execution_count": 16,
   "id": "597e74a7",
   "metadata": {
    "execution": {
     "iopub.execute_input": "2024-06-08T15:53:41.793571Z",
     "iopub.status.busy": "2024-06-08T15:53:41.793062Z",
     "iopub.status.idle": "2024-06-08T15:53:41.801295Z",
     "shell.execute_reply": "2024-06-08T15:53:41.799916Z"
    },
    "papermill": {
     "duration": 0.034602,
     "end_time": "2024-06-08T15:53:41.803797",
     "exception": false,
     "start_time": "2024-06-08T15:53:41.769195",
     "status": "completed"
    },
    "tags": []
   },
   "outputs": [],
   "source": [
    "reduce_lr = tf.keras.callbacks.ReduceLROnPlateau(monitor = 'val_accuracy',\n",
    "                                                 mode = 'max',\n",
    "                                                 min_delta = 0.01,\n",
    "                                                 patience = 3,\n",
    "                                                 factor = 0.25,\n",
    "                                                 verbose = 1,\n",
    "                                                 cooldown = 0,\n",
    "                                                 min_lr = 0.0000001)\n",
    "early_stopper = tf.keras.callbacks.EarlyStopping(monitor = 'val_accuracy',\n",
    "                                                 mode = 'max',\n",
    "                                                 min_delta = 0.05,\n",
    "                                                 patience = 10,\n",
    "                                                 verbose = 1,\n",
    "                                                 restore_best_weights = True)"
   ]
  },
  {
   "cell_type": "code",
   "execution_count": 17,
   "id": "399ab3f2",
   "metadata": {
    "execution": {
     "iopub.execute_input": "2024-06-08T15:53:41.849940Z",
     "iopub.status.busy": "2024-06-08T15:53:41.849506Z",
     "iopub.status.idle": "2024-06-08T16:00:32.866115Z",
     "shell.execute_reply": "2024-06-08T16:00:32.864809Z"
    },
    "id": "J4WN0u8MQFwY",
    "outputId": "49493dbe-7d85-4ebe-f7f8-649ecdd25e65",
    "papermill": {
     "duration": 411.043669,
     "end_time": "2024-06-08T16:00:32.869038",
     "exception": false,
     "start_time": "2024-06-08T15:53:41.825369",
     "status": "completed"
    },
    "tags": []
   },
   "outputs": [
    {
     "name": "stdout",
     "output_type": "stream",
     "text": [
      "Downloading data from https://storage.googleapis.com/tensorflow/keras-applications/mobilenet_v3/weights_mobilenet_v3_large_224_1.0_float_no_top_v2.h5\n",
      "12683000/12683000 [==============================] - 0s 0us/step\n",
      "Epoch 1/100\n",
      "16/16 [==============================] - 42s 2s/step - loss: 30.5538 - accuracy: 0.6738 - val_loss: 10.8034 - val_accuracy: 0.9098 - lr: 0.0350\n",
      "Epoch 2/100\n",
      "16/16 [==============================] - 40s 2s/step - loss: 6.0004 - accuracy: 0.9213 - val_loss: 6.2205 - val_accuracy: 0.9426 - lr: 0.0350\n",
      "Epoch 3/100\n",
      "16/16 [==============================] - 34s 2s/step - loss: 3.0643 - accuracy: 0.9530 - val_loss: 5.8631 - val_accuracy: 0.9508 - lr: 0.0350\n",
      "Epoch 4/100\n",
      "16/16 [==============================] - 38s 2s/step - loss: 1.9667 - accuracy: 0.9571 - val_loss: 5.8335 - val_accuracy: 0.9508 - lr: 0.0350\n",
      "Epoch 5/100\n",
      "16/16 [==============================] - ETA: 0s - loss: 1.7705 - accuracy: 0.9652\n",
      "Epoch 5: ReduceLROnPlateau reducing learning rate to 0.008750000037252903.\n",
      "16/16 [==============================] - 35s 2s/step - loss: 1.7705 - accuracy: 0.9652 - val_loss: 4.8908 - val_accuracy: 0.9508 - lr: 0.0350\n",
      "Epoch 6/100\n",
      "16/16 [==============================] - 35s 2s/step - loss: 1.1003 - accuracy: 0.9724 - val_loss: 4.6503 - val_accuracy: 0.9590 - lr: 0.0088\n",
      "Epoch 7/100\n",
      "16/16 [==============================] - 39s 2s/step - loss: 0.8157 - accuracy: 0.9734 - val_loss: 4.3436 - val_accuracy: 0.9467 - lr: 0.0088\n",
      "Epoch 8/100\n",
      "16/16 [==============================] - 35s 2s/step - loss: 1.0277 - accuracy: 0.9714 - val_loss: 5.2143 - val_accuracy: 0.9508 - lr: 0.0088\n",
      "Epoch 9/100\n",
      "16/16 [==============================] - ETA: 0s - loss: 1.3467 - accuracy: 0.9632\n",
      "Epoch 9: ReduceLROnPlateau reducing learning rate to 0.0021875000093132257.\n",
      "16/16 [==============================] - 35s 2s/step - loss: 1.3467 - accuracy: 0.9632 - val_loss: 4.2257 - val_accuracy: 0.9549 - lr: 0.0088\n",
      "Epoch 10/100\n",
      "16/16 [==============================] - 38s 2s/step - loss: 1.2002 - accuracy: 0.9703 - val_loss: 4.2188 - val_accuracy: 0.9590 - lr: 0.0022\n",
      "Epoch 11/100\n",
      "16/16 [==============================] - ETA: 0s - loss: 0.9387 - accuracy: 0.9734Restoring model weights from the end of the best epoch: 1.\n",
      "16/16 [==============================] - 35s 2s/step - loss: 0.9387 - accuracy: 0.9734 - val_loss: 4.1883 - val_accuracy: 0.9590 - lr: 0.0022\n",
      "Epoch 11: early stopping\n"
     ]
    },
    {
     "data": {
      "image/png": "[encoded data removed]",
      "text/plain": [
       "<Figure size 640x480 with 1 Axes>"
      ]
     },
     "metadata": {},
     "output_type": "display_data"
    }
   ],
   "source": [
    "from tensorflow.keras.applications import MobileNetV3Large\n",
    "from tensorflow.keras.callbacks import EarlyStopping\n",
    "# model = tf.keras.Sequential([\n",
    "#   tf.keras.layers.Rescaling(1./255),\n",
    "#   tf.keras.layers.Conv2D(32, 3, activation='relu'),\n",
    "#   tf.keras.layers.MaxPooling2D(),\n",
    "#   tf.keras.layers.Conv2D(64, 3, activation='relu'),\n",
    "#   tf.keras.layers.MaxPooling2D(),\n",
    "#   tf.keras.layers.Conv2D(128  , 3, activation='relu'),\n",
    "#   tf.keras.layers.Flatten(),\n",
    "#   tf.keras.layers.Dense(3, activation='softmax')\n",
    "# ])\n",
    "model = build_model(num_classes=3)\n",
    "callback = customcallback()\n",
    "early_stopping = EarlyStopping(monitor='accuracy',min_delta=1,verbose=1, patience=3)\n",
    "epochs = 100\n",
    "hist = model.fit(train_ds, epochs=epochs, validation_data=val_ds,callbacks=[early_stopper,reduce_lr])\n",
    "plot_hist(hist)"
   ]
  },
  {
   "cell_type": "code",
   "execution_count": 18,
   "id": "82361097",
   "metadata": {
    "execution": {
     "iopub.execute_input": "2024-06-08T16:00:32.960098Z",
     "iopub.status.busy": "2024-06-08T16:00:32.958693Z",
     "iopub.status.idle": "2024-06-08T16:00:32.965354Z",
     "shell.execute_reply": "2024-06-08T16:00:32.963956Z"
    },
    "id": "RvvyBasKQHzB",
    "papermill": {
     "duration": 0.055475,
     "end_time": "2024-06-08T16:00:32.968153",
     "exception": false,
     "start_time": "2024-06-08T16:00:32.912678",
     "status": "completed"
    },
    "tags": []
   },
   "outputs": [],
   "source": [
    "# model.compile(\n",
    "#   optimizer='adam',\n",
    "#   loss='categorical_crossentropy',\n",
    "#   metrics=['accuracy'])"
   ]
  },
  {
   "cell_type": "code",
   "execution_count": 19,
   "id": "430ab6cd",
   "metadata": {
    "execution": {
     "iopub.execute_input": "2024-06-08T16:00:33.056557Z",
     "iopub.status.busy": "2024-06-08T16:00:33.055467Z",
     "iopub.status.idle": "2024-06-08T16:00:33.061922Z",
     "shell.execute_reply": "2024-06-08T16:00:33.060380Z"
    },
    "id": "8uvaL-WrQPB7",
    "papermill": {
     "duration": 0.053447,
     "end_time": "2024-06-08T16:00:33.064950",
     "exception": false,
     "start_time": "2024-06-08T16:00:33.011503",
     "status": "completed"
    },
    "tags": []
   },
   "outputs": [],
   "source": [
    "# model.fit(\n",
    "#   train_ds,\n",
    "#   validation_data=val_ds,\n",
    "#   epochs=10\n",
    "# )"
   ]
  },
  {
   "cell_type": "code",
   "execution_count": 20,
   "id": "a4148f47",
   "metadata": {
    "execution": {
     "iopub.execute_input": "2024-06-08T16:00:33.155508Z",
     "iopub.status.busy": "2024-06-08T16:00:33.155022Z",
     "iopub.status.idle": "2024-06-08T16:00:33.161801Z",
     "shell.execute_reply": "2024-06-08T16:00:33.160339Z"
    },
    "id": "rX0odzvpcXXn",
    "papermill": {
     "duration": 0.055373,
     "end_time": "2024-06-08T16:00:33.164769",
     "exception": false,
     "start_time": "2024-06-08T16:00:33.109396",
     "status": "completed"
    },
    "tags": []
   },
   "outputs": [],
   "source": [
    "# from PIL import Image\n",
    "# import numpy as np\n",
    "# from skimage import transform\n",
    "# def load(filename):\n",
    "#    np_image = Image.open(filename)\n",
    "#    np_image = np.array(np_image).astype('float32')/255\n",
    "#    np_image = transform.resize(np_image, (180, 180, 3))\n",
    "#    np_image = np.expand_dims(np_image, axis=0)\n",
    "#    return np_image\n",
    "\n",
    "# image = load('/content/Patches/Abnormal(Ulcer)/122.jpg')\n",
    "# predictions= model.predict(image)\n",
    "# print(predictions[0])\n",
    "# print(np.argmax(predictions[0]))"
   ]
  },
  {
   "cell_type": "code",
   "execution_count": 21,
   "id": "76903860",
   "metadata": {
    "execution": {
     "iopub.execute_input": "2024-06-08T16:00:33.253280Z",
     "iopub.status.busy": "2024-06-08T16:00:33.252743Z",
     "iopub.status.idle": "2024-06-08T16:00:37.441684Z",
     "shell.execute_reply": "2024-06-08T16:00:37.439734Z"
    },
    "id": "CXCN8YDve1Wz",
    "outputId": "e2dd3238-b24d-4723-b434-25942dd501cf",
    "papermill": {
     "duration": 4.2376,
     "end_time": "2024-06-08T16:00:37.445181",
     "exception": false,
     "start_time": "2024-06-08T16:00:33.207581",
     "status": "completed"
    },
    "tags": []
   },
   "outputs": [
    {
     "name": "stdout",
     "output_type": "stream",
     "text": [
      "/opt/conda/lib/python3.10/site-packages/gdown/__main__.py:140: FutureWarning: Option `--id` was deprecated in version 4.3.1 and will be removed in 5.0. You don't need to pass it anymore to use a file ID.\r\n",
      "  warnings.warn(\r\n",
      "Downloading...\r\n",
      "From: https://drive.google.com/uc?id=1SibxIgQ0rIRbde5vIXR8G4hZqy9jA3-W\r\n",
      "To: /kaggle/working/TEST.zip\r\n",
      "100%|██████████████████████████████████████| 9.87M/9.87M [00:00<00:00, 69.4MB/s]\r\n"
     ]
    }
   ],
   "source": [
    "!gdown --id 1SibxIgQ0rIRbde5vIXR8G4hZqy9jA3-W"
   ]
  },
  {
   "cell_type": "code",
   "execution_count": 22,
   "id": "4ec204ab",
   "metadata": {
    "execution": {
     "iopub.execute_input": "2024-06-08T16:00:37.536560Z",
     "iopub.status.busy": "2024-06-08T16:00:37.536071Z",
     "iopub.status.idle": "2024-06-08T16:00:38.817735Z",
     "shell.execute_reply": "2024-06-08T16:00:38.815684Z"
    },
    "id": "BIdi0NTgK4sH",
    "papermill": {
     "duration": 1.330764,
     "end_time": "2024-06-08T16:00:38.821141",
     "exception": false,
     "start_time": "2024-06-08T16:00:37.490377",
     "status": "completed"
    },
    "tags": []
   },
   "outputs": [],
   "source": [
    "!unzip -q './TEST.zip'"
   ]
  },
  {
   "cell_type": "code",
   "execution_count": 23,
   "id": "c415496a",
   "metadata": {
    "execution": {
     "iopub.execute_input": "2024-06-08T16:00:38.911463Z",
     "iopub.status.busy": "2024-06-08T16:00:38.910981Z",
     "iopub.status.idle": "2024-06-08T16:00:38.918180Z",
     "shell.execute_reply": "2024-06-08T16:00:38.916763Z"
    },
    "id": "4sgqyJLfK61k",
    "papermill": {
     "duration": 0.055918,
     "end_time": "2024-06-08T16:00:38.921190",
     "exception": false,
     "start_time": "2024-06-08T16:00:38.865272",
     "status": "completed"
    },
    "tags": []
   },
   "outputs": [],
   "source": [
    "test_dir = pathlib.Path(\"./TEST\")"
   ]
  },
  {
   "cell_type": "code",
   "execution_count": 24,
   "id": "0b91c23d",
   "metadata": {
    "execution": {
     "iopub.execute_input": "2024-06-08T16:00:39.021510Z",
     "iopub.status.busy": "2024-06-08T16:00:39.020926Z",
     "iopub.status.idle": "2024-06-08T16:00:39.103748Z",
     "shell.execute_reply": "2024-06-08T16:00:39.102307Z"
    },
    "id": "KhnP-A_UK8w7",
    "outputId": "787cb041-5e9f-4a2c-f666-8066eb19a90c",
    "papermill": {
     "duration": 0.139694,
     "end_time": "2024-06-08T16:00:39.106676",
     "exception": false,
     "start_time": "2024-06-08T16:00:38.966982",
     "status": "completed"
    },
    "tags": []
   },
   "outputs": [
    {
     "name": "stdout",
     "output_type": "stream",
     "text": [
      "Found 168 files belonging to 3 classes.\n"
     ]
    }
   ],
   "source": [
    "test_ds = tf.keras.utils.image_dataset_from_directory(\n",
    "  test_dir,\n",
    "  image_size=(img_height, img_width),\n",
    "  label_mode='categorical',\n",
    "  batch_size=batch_size,shuffle=False)"
   ]
  },
  {
   "cell_type": "code",
   "execution_count": 25,
   "id": "a1c01c41",
   "metadata": {
    "execution": {
     "iopub.execute_input": "2024-06-08T16:00:39.195442Z",
     "iopub.status.busy": "2024-06-08T16:00:39.194885Z",
     "iopub.status.idle": "2024-06-08T16:00:43.280091Z",
     "shell.execute_reply": "2024-06-08T16:00:43.278518Z"
    },
    "id": "YQ5r-lhLLkO6",
    "outputId": "ead2ec93-1ff7-4ad5-b702-dc71c928ac08",
    "papermill": {
     "duration": 4.13267,
     "end_time": "2024-06-08T16:00:43.283066",
     "exception": false,
     "start_time": "2024-06-08T16:00:39.150396",
     "status": "completed"
    },
    "tags": []
   },
   "outputs": [
    {
     "name": "stdout",
     "output_type": "stream",
     "text": [
      "3/3 [==============================] - 4s 1s/step - loss: 19.4925 - accuracy: 0.7738\n"
     ]
    }
   ],
   "source": [
    "result = model.evaluate(test_ds)"
   ]
  },
  {
   "cell_type": "code",
   "execution_count": 26,
   "id": "8bd4468d",
   "metadata": {
    "execution": {
     "iopub.execute_input": "2024-06-08T16:00:43.373297Z",
     "iopub.status.busy": "2024-06-08T16:00:43.372758Z",
     "iopub.status.idle": "2024-06-08T16:00:45.321000Z",
     "shell.execute_reply": "2024-06-08T16:00:45.319328Z"
    },
    "id": "d2pimdb3rEDS",
    "outputId": "7e8ed611-3a6d-466a-e1b4-90b46be9ae7f",
    "papermill": {
     "duration": 1.997436,
     "end_time": "2024-06-08T16:00:45.323860",
     "exception": false,
     "start_time": "2024-06-08T16:00:43.326424",
     "status": "completed"
    },
    "tags": []
   },
   "outputs": [
    {
     "name": "stdout",
     "output_type": "stream",
     "text": [
      "1/1 [==============================] - 2s 2s/step\n",
      "This image most likely belongs to Wound Images with a 57.61 percent confidence.\n"
     ]
    }
   ],
   "source": [
    "img = tf.keras.utils.load_img(\n",
    "    './TEST/Wound Images/abrasions (82).jpg', target_size=(img_height, img_width)\n",
    ")\n",
    "img_array = tf.keras.utils.img_to_array(img)\n",
    "img_array = tf.expand_dims(img_array, 0) # Create a batch\n",
    "\n",
    "predictions = model.predict(img_array)\n",
    "score = tf.nn.softmax(predictions[0])\n",
    "\n",
    "print(\n",
    "    \"This image most likely belongs to {} with a {:.2f} percent confidence.\"\n",
    "    .format(class_names[np.argmax(score)], 100 * np.max(score))\n",
    ")"
   ]
  },
  {
   "cell_type": "code",
   "execution_count": 27,
   "id": "ddcf2730",
   "metadata": {
    "execution": {
     "iopub.execute_input": "2024-06-08T16:00:45.414998Z",
     "iopub.status.busy": "2024-06-08T16:00:45.413594Z",
     "iopub.status.idle": "2024-06-08T16:00:45.424509Z",
     "shell.execute_reply": "2024-06-08T16:00:45.422845Z"
    },
    "id": "jISpr_515gYM",
    "outputId": "d306a9e8-3994-4c89-dc01-f063d4de71b1",
    "papermill": {
     "duration": 0.059667,
     "end_time": "2024-06-08T16:00:45.427510",
     "exception": false,
     "start_time": "2024-06-08T16:00:45.367843",
     "status": "completed"
    },
    "tags": []
   },
   "outputs": [
    {
     "name": "stdout",
     "output_type": "stream",
     "text": [
      "Confidence for class 'Abnormal(Ulcer)': 21.19%\n"
     ]
    }
   ],
   "source": [
    "print(\"Confidence for class '{}': {:.2f}%\".format(class_names[0], 100 * score[0]))"
   ]
  },
  {
   "cell_type": "code",
   "execution_count": 28,
   "id": "5daaf93c",
   "metadata": {
    "execution": {
     "iopub.execute_input": "2024-06-08T16:00:45.519912Z",
     "iopub.status.busy": "2024-06-08T16:00:45.519431Z",
     "iopub.status.idle": "2024-06-08T16:00:52.836978Z",
     "shell.execute_reply": "2024-06-08T16:00:52.835522Z"
    },
    "id": "FaJV640E6K2U",
    "outputId": "30f1def6-0236-4d10-d52e-e2b49772f5a9",
    "papermill": {
     "duration": 7.367425,
     "end_time": "2024-06-08T16:00:52.840223",
     "exception": false,
     "start_time": "2024-06-08T16:00:45.472798",
     "status": "completed"
    },
    "tags": []
   },
   "outputs": [
    {
     "name": "stdout",
     "output_type": "stream",
     "text": [
      "3/3 [==============================] - 5s 1s/step\n"
     ]
    },
    {
     "data": {
      "image/png": "[encoded data removed]",
      "text/plain": [
       "<Figure size 640x480 with 2 Axes>"
      ]
     },
     "metadata": {},
     "output_type": "display_data"
    }
   ],
   "source": [
    "from sklearn.metrics import confusion_matrix, ConfusionMatrixDisplay\n",
    "y_pred_prob = model.predict(test_ds)\n",
    "y_pred = np.argmax(y_pred_prob, axis=1)\n",
    "\n",
    "# Get the true labels\n",
    "y_true = np.concatenate([y for x, y in test_ds], axis=0)\n",
    "y_true = np.argmax(y_true, axis=1)\n",
    "\n",
    "# Create the confusion matrix\n",
    "cm = confusion_matrix(y_true, y_pred)\n",
    "\n",
    "# Display the confusion matrix\n",
    "labels = test_ds.class_names\n",
    "disp = ConfusionMatrixDisplay(confusion_matrix=cm, display_labels=labels)\n",
    "disp.plot(cmap=plt.cm.Blues)\n",
    "plt.show()"
   ]
  },
  {
   "cell_type": "code",
   "execution_count": 29,
   "id": "55db0ddb",
   "metadata": {
    "execution": {
     "iopub.execute_input": "2024-06-08T16:00:52.934815Z",
     "iopub.status.busy": "2024-06-08T16:00:52.934365Z",
     "iopub.status.idle": "2024-06-08T16:00:53.317436Z",
     "shell.execute_reply": "2024-06-08T16:00:53.316030Z"
    },
    "id": "-9ZQ-XNNb5tr",
    "outputId": "a8c6afeb-d3d6-478b-e9f0-56dac35a6bdf",
    "papermill": {
     "duration": 0.434089,
     "end_time": "2024-06-08T16:00:53.320722",
     "exception": false,
     "start_time": "2024-06-08T16:00:52.886633",
     "status": "completed"
    },
    "tags": []
   },
   "outputs": [
    {
     "name": "stderr",
     "output_type": "stream",
     "text": [
      "/opt/conda/lib/python3.10/site-packages/keras/src/engine/training.py:3103: UserWarning: You are saving your model as an HDF5 file via `model.save()`. This file format is considered legacy. We recommend using instead the native Keras format, e.g. `model.save('my_model.keras')`.\n",
      "  saving_api.save_model(\n"
     ]
    }
   ],
   "source": [
    "model.save(\"modelMBnet2.h5\")"
   ]
  },
  {
   "cell_type": "code",
   "execution_count": 30,
   "id": "6fd99a98",
   "metadata": {
    "execution": {
     "iopub.execute_input": "2024-06-08T16:00:53.419424Z",
     "iopub.status.busy": "2024-06-08T16:00:53.418879Z",
     "iopub.status.idle": "2024-06-08T16:00:54.378628Z",
     "shell.execute_reply": "2024-06-08T16:00:54.377437Z"
    },
    "papermill": {
     "duration": 1.012617,
     "end_time": "2024-06-08T16:00:54.382267",
     "exception": false,
     "start_time": "2024-06-08T16:00:53.369650",
     "status": "completed"
    },
    "tags": []
   },
   "outputs": [],
   "source": [
    "model.save(\"modelMBnet2.keras\")"
   ]
  },
  {
   "cell_type": "code",
   "execution_count": 31,
   "id": "429b0f40",
   "metadata": {
    "execution": {
     "iopub.execute_input": "2024-06-08T16:00:54.480961Z",
     "iopub.status.busy": "2024-06-08T16:00:54.480518Z",
     "iopub.status.idle": "2024-06-08T16:01:18.217269Z",
     "shell.execute_reply": "2024-06-08T16:01:18.215708Z"
    },
    "papermill": {
     "duration": 23.791533,
     "end_time": "2024-06-08T16:01:18.223040",
     "exception": false,
     "start_time": "2024-06-08T16:00:54.431507",
     "status": "completed"
    },
    "tags": []
   },
   "outputs": [],
   "source": [
    "model.save(\"modelMBnet2\")"
   ]
  },
  {
   "cell_type": "code",
   "execution_count": 32,
   "id": "f5b730ce",
   "metadata": {
    "execution": {
     "iopub.execute_input": "2024-06-08T16:01:18.323772Z",
     "iopub.status.busy": "2024-06-08T16:01:18.323264Z",
     "iopub.status.idle": "2024-06-08T16:01:18.836966Z",
     "shell.execute_reply": "2024-06-08T16:01:18.835529Z"
    },
    "papermill": {
     "duration": 0.571284,
     "end_time": "2024-06-08T16:01:18.840187",
     "exception": false,
     "start_time": "2024-06-08T16:01:18.268903",
     "status": "completed"
    },
    "tags": []
   },
   "outputs": [
    {
     "name": "stderr",
     "output_type": "stream",
     "text": [
      "/opt/conda/lib/python3.10/site-packages/keras/src/engine/training.py:3103: UserWarning: You are saving your model as an HDF5 file via `model.save()`. This file format is considered legacy. We recommend using instead the native Keras format, e.g. `model.save('my_model.keras')`.\n",
      "  saving_api.save_model(\n"
     ]
    }
   ],
   "source": [
    "tfjs.converters.save_keras_model(model, './tfjs')"
   ]
  }
 ],
 "metadata": {
  "colab": {
   "provenance": []
  },
  "kaggle": {
   "accelerator": "none",
   "dataSources": [],
   "dockerImageVersionId": 30715,
   "isGpuEnabled": false,
   "isInternetEnabled": true,
   "language": "python",
   "sourceType": "notebook"
  },
  "kernelspec": {
   "display_name": "Python 3",
   "language": "python",
   "name": "python3"
  },
  "language_info": {
   "codemirror_mode": {
    "name": "ipython",
    "version": 3
   },
   "file_extension": ".py",
   "mimetype": "text/x-python",
   "name": "python",
   "nbconvert_exporter": "python",
   "pygments_lexer": "ipython3",
   "version": "3.10.13"
  },
  "papermill": {
   "default_parameters": {},
   "duration": 603.651598,
   "end_time": "2024-06-08T16:01:21.711133",
   "environment_variables": {},
   "exception": null,
   "input_path": "__notebook__.ipynb",
   "output_path": "__notebook__.ipynb",
   "parameters": {},
   "start_time": "2024-06-08T15:51:18.059535",
   "version": "2.5.0"
  }
 },
 "nbformat": 4,
 "nbformat_minor": 5
}
