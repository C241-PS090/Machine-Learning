{
 "cells": [
  {
   "cell_type": "code",
   "execution_count": 1,
   "id": "3bf9f90c",
   "metadata": {
    "execution": {
     "iopub.execute_input": "2024-06-04T12:32:42.832358Z",
     "iopub.status.busy": "2024-06-04T12:32:42.831934Z",
     "iopub.status.idle": "2024-06-04T12:34:23.677596Z",
     "shell.execute_reply": "2024-06-04T12:34:23.676187Z"
    },
    "papermill": {
     "duration": 100.859169,
     "end_time": "2024-06-04T12:34:23.680787",
     "exception": false,
     "start_time": "2024-06-04T12:32:42.821618",
     "status": "completed"
    },
    "tags": []
   },
   "outputs": [
    {
     "name": "stdout",
     "output_type": "stream",
     "text": [
      "Collecting gdown\r\n",
      "  Downloading gdown-5.2.0-py3-none-any.whl.metadata (5.8 kB)\r\n",
      "Requirement already satisfied: beautifulsoup4 in /opt/conda/lib/python3.10/site-packages (from gdown) (4.12.2)\r\n",
      "Requirement already satisfied: filelock in /opt/conda/lib/python3.10/site-packages (from gdown) (3.13.1)\r\n",
      "Requirement already satisfied: requests[socks] in /opt/conda/lib/python3.10/site-packages (from gdown) (2.31.0)\r\n",
      "Requirement already satisfied: tqdm in /opt/conda/lib/python3.10/site-packages (from gdown) (4.66.4)\r\n",
      "Requirement already satisfied: soupsieve>1.2 in /opt/conda/lib/python3.10/site-packages (from beautifulsoup4->gdown) (2.5)\r\n",
      "Requirement already satisfied: charset-normalizer<4,>=2 in /opt/conda/lib/python3.10/site-packages (from requests[socks]->gdown) (3.3.2)\r\n",
      "Requirement already satisfied: idna<4,>=2.5 in /opt/conda/lib/python3.10/site-packages (from requests[socks]->gdown) (3.6)\r\n",
      "Requirement already satisfied: urllib3<3,>=1.21.1 in /opt/conda/lib/python3.10/site-packages (from requests[socks]->gdown) (1.26.18)\r\n",
      "Requirement already satisfied: certifi>=2017.4.17 in /opt/conda/lib/python3.10/site-packages (from requests[socks]->gdown) (2024.2.2)\r\n",
      "Requirement already satisfied: PySocks!=1.5.7,>=1.5.6 in /opt/conda/lib/python3.10/site-packages (from requests[socks]->gdown) (1.7.1)\r\n",
      "Downloading gdown-5.2.0-py3-none-any.whl (18 kB)\r\n",
      "\u001b[33mWARNING: Error parsing requirements for aiohttp: [Errno 2] No such file or directory: '/opt/conda/lib/python3.10/site-packages/aiohttp-3.9.1.dist-info/METADATA'\u001b[0m\u001b[33m\r\n",
      "\u001b[0mInstalling collected packages: gdown\r\n",
      "Successfully installed gdown-5.2.0\r\n",
      "Collecting unzip\r\n",
      "  Downloading unzip-1.0.0.tar.gz (704 bytes)\r\n",
      "  Preparing metadata (setup.py) ... \u001b[?25l-\b \bdone\r\n",
      "\u001b[?25hBuilding wheels for collected packages: unzip\r\n",
      "  Building wheel for unzip (setup.py) ... \u001b[?25l-\b \b\\\b \bdone\r\n",
      "\u001b[?25h  Created wheel for unzip: filename=unzip-1.0.0-py3-none-any.whl size=1280 sha256=71cfe1ad04a3ec54cda248efd6c94088ed2437868f0ea071b40da732bc709357\r\n",
      "  Stored in directory: /root/.cache/pip/wheels/80/dc/7a/f8af45bc239e7933509183f038ea8d46f3610aab82b35369f4\r\n",
      "Successfully built unzip\r\n",
      "\u001b[33mWARNING: Error parsing requirements for aiohttp: [Errno 2] No such file or directory: '/opt/conda/lib/python3.10/site-packages/aiohttp-3.9.1.dist-info/METADATA'\u001b[0m\u001b[33m\r\n",
      "\u001b[0mInstalling collected packages: unzip\r\n",
      "Successfully installed unzip-1.0.0\r\n",
      "Requirement already satisfied: tensorflow in /opt/conda/lib/python3.10/site-packages (2.15.0)\r\n",
      "Requirement already satisfied: absl-py>=1.0.0 in /opt/conda/lib/python3.10/site-packages (from tensorflow) (1.4.0)\r\n",
      "Requirement already satisfied: astunparse>=1.6.0 in /opt/conda/lib/python3.10/site-packages (from tensorflow) (1.6.3)\r\n",
      "Requirement already satisfied: flatbuffers>=23.5.26 in /opt/conda/lib/python3.10/site-packages (from tensorflow) (23.5.26)\r\n",
      "Requirement already satisfied: gast!=0.5.0,!=0.5.1,!=0.5.2,>=0.2.1 in /opt/conda/lib/python3.10/site-packages (from tensorflow) (0.5.4)\r\n",
      "Requirement already satisfied: google-pasta>=0.1.1 in /opt/conda/lib/python3.10/site-packages (from tensorflow) (0.2.0)\r\n",
      "Requirement already satisfied: h5py>=2.9.0 in /opt/conda/lib/python3.10/site-packages (from tensorflow) (3.10.0)\r\n",
      "Requirement already satisfied: libclang>=13.0.0 in /opt/conda/lib/python3.10/site-packages (from tensorflow) (16.0.6)\r\n",
      "Requirement already satisfied: ml-dtypes~=0.2.0 in /opt/conda/lib/python3.10/site-packages (from tensorflow) (0.2.0)\r\n",
      "Requirement already satisfied: numpy<2.0.0,>=1.23.5 in /opt/conda/lib/python3.10/site-packages (from tensorflow) (1.26.4)\r\n",
      "Requirement already satisfied: opt-einsum>=2.3.2 in /opt/conda/lib/python3.10/site-packages (from tensorflow) (3.3.0)\r\n",
      "Requirement already satisfied: packaging in /opt/conda/lib/python3.10/site-packages (from tensorflow) (21.3)\r\n",
      "Requirement already satisfied: protobuf!=4.21.0,!=4.21.1,!=4.21.2,!=4.21.3,!=4.21.4,!=4.21.5,<5.0.0dev,>=3.20.3 in /opt/conda/lib/python3.10/site-packages (from tensorflow) (3.20.3)\r\n",
      "Requirement already satisfied: setuptools in /opt/conda/lib/python3.10/site-packages (from tensorflow) (69.0.3)\r\n",
      "Requirement already satisfied: six>=1.12.0 in /opt/conda/lib/python3.10/site-packages (from tensorflow) (1.16.0)\r\n",
      "Requirement already satisfied: termcolor>=1.1.0 in /opt/conda/lib/python3.10/site-packages (from tensorflow) (2.4.0)\r\n",
      "Requirement already satisfied: typing-extensions>=3.6.6 in /opt/conda/lib/python3.10/site-packages (from tensorflow) (4.9.0)\r\n",
      "Requirement already satisfied: wrapt<1.15,>=1.11.0 in /opt/conda/lib/python3.10/site-packages (from tensorflow) (1.14.1)\r\n",
      "Requirement already satisfied: tensorflow-io-gcs-filesystem>=0.23.1 in /opt/conda/lib/python3.10/site-packages (from tensorflow) (0.35.0)\r\n",
      "Requirement already satisfied: grpcio<2.0,>=1.24.3 in /opt/conda/lib/python3.10/site-packages (from tensorflow) (1.60.0)\r\n",
      "Requirement already satisfied: tensorboard<2.16,>=2.15 in /opt/conda/lib/python3.10/site-packages (from tensorflow) (2.15.1)\r\n",
      "Requirement already satisfied: tensorflow-estimator<2.16,>=2.15.0 in /opt/conda/lib/python3.10/site-packages (from tensorflow) (2.15.0)\r\n",
      "Collecting keras<2.16,>=2.15.0 (from tensorflow)\r\n",
      "  Downloading keras-2.15.0-py3-none-any.whl.metadata (2.4 kB)\r\n",
      "Requirement already satisfied: wheel<1.0,>=0.23.0 in /opt/conda/lib/python3.10/site-packages (from astunparse>=1.6.0->tensorflow) (0.42.0)\r\n",
      "Requirement already satisfied: google-auth<3,>=1.6.3 in /opt/conda/lib/python3.10/site-packages (from tensorboard<2.16,>=2.15->tensorflow) (2.26.1)\r\n",
      "Requirement already satisfied: google-auth-oauthlib<2,>=0.5 in /opt/conda/lib/python3.10/site-packages (from tensorboard<2.16,>=2.15->tensorflow) (1.2.0)\r\n",
      "Requirement already satisfied: markdown>=2.6.8 in /opt/conda/lib/python3.10/site-packages (from tensorboard<2.16,>=2.15->tensorflow) (3.5.2)\r\n",
      "Requirement already satisfied: requests<3,>=2.21.0 in /opt/conda/lib/python3.10/site-packages (from tensorboard<2.16,>=2.15->tensorflow) (2.31.0)\r\n",
      "Requirement already satisfied: tensorboard-data-server<0.8.0,>=0.7.0 in /opt/conda/lib/python3.10/site-packages (from tensorboard<2.16,>=2.15->tensorflow) (0.7.2)\r\n",
      "Requirement already satisfied: werkzeug>=1.0.1 in /opt/conda/lib/python3.10/site-packages (from tensorboard<2.16,>=2.15->tensorflow) (3.0.3)\r\n",
      "Requirement already satisfied: pyparsing!=3.0.5,>=2.0.2 in /opt/conda/lib/python3.10/site-packages (from packaging->tensorflow) (3.1.1)\r\n",
      "Requirement already satisfied: cachetools<6.0,>=2.0.0 in /opt/conda/lib/python3.10/site-packages (from google-auth<3,>=1.6.3->tensorboard<2.16,>=2.15->tensorflow) (4.2.4)\r\n",
      "Requirement already satisfied: pyasn1-modules>=0.2.1 in /opt/conda/lib/python3.10/site-packages (from google-auth<3,>=1.6.3->tensorboard<2.16,>=2.15->tensorflow) (0.3.0)\r\n",
      "Requirement already satisfied: rsa<5,>=3.1.4 in /opt/conda/lib/python3.10/site-packages (from google-auth<3,>=1.6.3->tensorboard<2.16,>=2.15->tensorflow) (4.9)\r\n",
      "Requirement already satisfied: requests-oauthlib>=0.7.0 in /opt/conda/lib/python3.10/site-packages (from google-auth-oauthlib<2,>=0.5->tensorboard<2.16,>=2.15->tensorflow) (1.3.1)\r\n",
      "Requirement already satisfied: charset-normalizer<4,>=2 in /opt/conda/lib/python3.10/site-packages (from requests<3,>=2.21.0->tensorboard<2.16,>=2.15->tensorflow) (3.3.2)\r\n",
      "Requirement already satisfied: idna<4,>=2.5 in /opt/conda/lib/python3.10/site-packages (from requests<3,>=2.21.0->tensorboard<2.16,>=2.15->tensorflow) (3.6)\r\n",
      "Requirement already satisfied: urllib3<3,>=1.21.1 in /opt/conda/lib/python3.10/site-packages (from requests<3,>=2.21.0->tensorboard<2.16,>=2.15->tensorflow) (1.26.18)\r\n",
      "Requirement already satisfied: certifi>=2017.4.17 in /opt/conda/lib/python3.10/site-packages (from requests<3,>=2.21.0->tensorboard<2.16,>=2.15->tensorflow) (2024.2.2)\r\n",
      "Requirement already satisfied: MarkupSafe>=2.1.1 in /opt/conda/lib/python3.10/site-packages (from werkzeug>=1.0.1->tensorboard<2.16,>=2.15->tensorflow) (2.1.3)\r\n",
      "Requirement already satisfied: pyasn1<0.6.0,>=0.4.6 in /opt/conda/lib/python3.10/site-packages (from pyasn1-modules>=0.2.1->google-auth<3,>=1.6.3->tensorboard<2.16,>=2.15->tensorflow) (0.5.1)\r\n",
      "Requirement already satisfied: oauthlib>=3.0.0 in /opt/conda/lib/python3.10/site-packages (from requests-oauthlib>=0.7.0->google-auth-oauthlib<2,>=0.5->tensorboard<2.16,>=2.15->tensorflow) (3.2.2)\r\n",
      "Downloading keras-2.15.0-py3-none-any.whl (1.7 MB)\r\n",
      "\u001b[2K   \u001b[90m━━━━━━━━━━━━━━━━━━━━━━━━━━━━━━━━━━━━━━━━\u001b[0m \u001b[32m1.7/1.7 MB\u001b[0m \u001b[31m15.5 MB/s\u001b[0m eta \u001b[36m0:00:00\u001b[0m\r\n",
      "\u001b[?25h\u001b[33mWARNING: Error parsing requirements for aiohttp: [Errno 2] No such file or directory: '/opt/conda/lib/python3.10/site-packages/aiohttp-3.9.1.dist-info/METADATA'\u001b[0m\u001b[33m\r\n",
      "\u001b[0mInstalling collected packages: keras\r\n",
      "  Attempting uninstall: keras\r\n",
      "    Found existing installation: keras 3.3.3\r\n",
      "    Uninstalling keras-3.3.3:\r\n",
      "      Successfully uninstalled keras-3.3.3\r\n",
      "\u001b[31mERROR: pip's dependency resolver does not currently take into account all the packages that are installed. This behaviour is the source of the following dependency conflicts.\r\n",
      "tensorflow-decision-forests 1.8.1 requires wurlitzer, which is not installed.\u001b[0m\u001b[31m\r\n",
      "\u001b[0mSuccessfully installed keras-2.15.0\r\n",
      "\u001b[31mERROR: Could not find a version that satisfies the requirement PIL (from versions: none)\u001b[0m\u001b[31m\r\n",
      "\u001b[0m\u001b[31mERROR: No matching distribution found for PIL\u001b[0m\u001b[31m\r\n",
      "\u001b[0mRequirement already satisfied: pydot in /opt/conda/lib/python3.10/site-packages (1.4.2)\r\n",
      "Requirement already satisfied: pyparsing>=2.1.4 in /opt/conda/lib/python3.10/site-packages (from pydot) (3.1.1)\r\n",
      "\u001b[33mWARNING: Error parsing requirements for aiohttp: [Errno 2] No such file or directory: '/opt/conda/lib/python3.10/site-packages/aiohttp-3.9.1.dist-info/METADATA'\u001b[0m\u001b[33m\r\n",
      "\u001b[0mCollecting pathlib\r\n",
      "  Downloading pathlib-1.0.1-py3-none-any.whl.metadata (5.1 kB)\r\n",
      "Downloading pathlib-1.0.1-py3-none-any.whl (14 kB)\r\n",
      "\u001b[33mWARNING: Error parsing requirements for aiohttp: [Errno 2] No such file or directory: '/opt/conda/lib/python3.10/site-packages/aiohttp-3.9.1.dist-info/METADATA'\u001b[0m\u001b[33m\r\n",
      "\u001b[0mInstalling collected packages: pathlib\r\n",
      "Successfully installed pathlib-1.0.1\r\n",
      "Requirement already satisfied: keras in /opt/conda/lib/python3.10/site-packages (2.15.0)\r\n",
      "\u001b[33mWARNING: Error parsing requirements for aiohttp: [Errno 2] No such file or directory: '/opt/conda/lib/python3.10/site-packages/aiohttp-3.9.1.dist-info/METADATA'\u001b[0m\u001b[33m\r\n",
      "\u001b[0m"
     ]
    }
   ],
   "source": [
    "!pip install gdown\n",
    "!pip install unzip\n",
    "!pip install tensorflow\n",
    "!pip install PIL\n",
    "!pip install pydot\n",
    "!pip install pathlib\n",
    "!pip install keras"
   ]
  },
  {
   "cell_type": "code",
   "execution_count": 2,
   "id": "836ed255",
   "metadata": {
    "execution": {
     "iopub.execute_input": "2024-06-04T12:34:23.709470Z",
     "iopub.status.busy": "2024-06-04T12:34:23.709010Z",
     "iopub.status.idle": "2024-06-04T12:34:39.489152Z",
     "shell.execute_reply": "2024-06-04T12:34:39.487970Z"
    },
    "id": "OajGXcATWFrh",
    "papermill": {
     "duration": 15.797535,
     "end_time": "2024-06-04T12:34:39.492255",
     "exception": false,
     "start_time": "2024-06-04T12:34:23.694720",
     "status": "completed"
    },
    "tags": []
   },
   "outputs": [
    {
     "name": "stderr",
     "output_type": "stream",
     "text": [
      "2024-06-04 12:34:26.079473: E external/local_xla/xla/stream_executor/cuda/cuda_dnn.cc:9261] Unable to register cuDNN factory: Attempting to register factory for plugin cuDNN when one has already been registered\n",
      "2024-06-04 12:34:26.079615: E external/local_xla/xla/stream_executor/cuda/cuda_fft.cc:607] Unable to register cuFFT factory: Attempting to register factory for plugin cuFFT when one has already been registered\n",
      "2024-06-04 12:34:26.263859: E external/local_xla/xla/stream_executor/cuda/cuda_blas.cc:1515] Unable to register cuBLAS factory: Attempting to register factory for plugin cuBLAS when one has already been registered\n"
     ]
    }
   ],
   "source": [
    "import tensorflow as tf\n",
    "from tensorflow.python.keras.utils.vis_utils import plot_model\n",
    "import pydot\n",
    "from tensorflow.keras.models import Model\n",
    "import PIL\n",
    "import PIL.Image\n",
    "import gdown\n",
    "import pathlib\n",
    "from tensorflow.keras.preprocessing.image import ImageDataGenerator\n",
    "import matplotlib.pyplot as plt\n",
    "import numpy as np"
   ]
  },
  {
   "cell_type": "code",
   "execution_count": 3,
   "id": "886453e8",
   "metadata": {
    "execution": {
     "iopub.execute_input": "2024-06-04T12:34:39.521139Z",
     "iopub.status.busy": "2024-06-04T12:34:39.520414Z",
     "iopub.status.idle": "2024-06-04T12:34:51.405718Z",
     "shell.execute_reply": "2024-06-04T12:34:51.404118Z"
    },
    "id": "TcnI2DwQ4Ahs",
    "outputId": "abcdaa7d-0c75-4965-fb79-30b43f577d85",
    "papermill": {
     "duration": 11.90303,
     "end_time": "2024-06-04T12:34:51.408760",
     "exception": false,
     "start_time": "2024-06-04T12:34:39.505730",
     "status": "completed"
    },
    "tags": []
   },
   "outputs": [
    {
     "name": "stdout",
     "output_type": "stream",
     "text": [
      "/opt/conda/lib/python3.10/site-packages/gdown/__main__.py:140: FutureWarning: Option `--id` was deprecated in version 4.3.1 and will be removed in 5.0. You don't need to pass it anymore to use a file ID.\r\n",
      "  warnings.warn(\r\n",
      "Downloading...\r\n",
      "From: https://drive.google.com/uc?id=1YCYOnlJgBU_uHqEgNYOJi4BxR2PUHboO\r\n",
      "To: /kaggle/working/Patches.zip\r\n",
      "100%|██████████████████████████████████████| 23.0M/23.0M [00:00<00:00, 58.0MB/s]\r\n"
     ]
    }
   ],
   "source": [
    "!gdown --id 1YCYOnlJgBU_uHqEgNYOJi4BxR2PUHboO"
   ]
  },
  {
   "cell_type": "code",
   "execution_count": 4,
   "id": "5b6bf110",
   "metadata": {
    "execution": {
     "iopub.execute_input": "2024-06-04T12:34:51.439329Z",
     "iopub.status.busy": "2024-06-04T12:34:51.438821Z",
     "iopub.status.idle": "2024-06-04T12:34:52.885201Z",
     "shell.execute_reply": "2024-06-04T12:34:52.883694Z"
    },
    "id": "TcZ2S-EO3oLO",
    "papermill": {
     "duration": 1.465104,
     "end_time": "2024-06-04T12:34:52.888026",
     "exception": false,
     "start_time": "2024-06-04T12:34:51.422922",
     "status": "completed"
    },
    "tags": []
   },
   "outputs": [],
   "source": [
    "!unzip -q './Patches.zip'"
   ]
  },
  {
   "cell_type": "code",
   "execution_count": 5,
   "id": "feae5984",
   "metadata": {
    "execution": {
     "iopub.execute_input": "2024-06-04T12:34:52.917825Z",
     "iopub.status.busy": "2024-06-04T12:34:52.917348Z",
     "iopub.status.idle": "2024-06-04T12:34:52.923791Z",
     "shell.execute_reply": "2024-06-04T12:34:52.922437Z"
    },
    "id": "WeqWpbbrICPq",
    "papermill": {
     "duration": 0.02472,
     "end_time": "2024-06-04T12:34:52.926444",
     "exception": false,
     "start_time": "2024-06-04T12:34:52.901724",
     "status": "completed"
    },
    "tags": []
   },
   "outputs": [],
   "source": [
    "data_dir = pathlib.Path(\"./Patches\")"
   ]
  },
  {
   "cell_type": "code",
   "execution_count": 6,
   "id": "8b925541",
   "metadata": {
    "execution": {
     "iopub.execute_input": "2024-06-04T12:34:52.955819Z",
     "iopub.status.busy": "2024-06-04T12:34:52.955358Z",
     "iopub.status.idle": "2024-06-04T12:34:52.960500Z",
     "shell.execute_reply": "2024-06-04T12:34:52.959453Z"
    },
    "id": "yZ__L8W_IFSg",
    "papermill": {
     "duration": 0.022518,
     "end_time": "2024-06-04T12:34:52.962910",
     "exception": false,
     "start_time": "2024-06-04T12:34:52.940392",
     "status": "completed"
    },
    "tags": []
   },
   "outputs": [],
   "source": [
    "batch_size = 64\n",
    "img_height = 224\n",
    "img_width = 224"
   ]
  },
  {
   "cell_type": "code",
   "execution_count": 7,
   "id": "be15814b",
   "metadata": {
    "execution": {
     "iopub.execute_input": "2024-06-04T12:34:52.991726Z",
     "iopub.status.busy": "2024-06-04T12:34:52.991343Z",
     "iopub.status.idle": "2024-06-04T12:34:53.236936Z",
     "shell.execute_reply": "2024-06-04T12:34:53.235663Z"
    },
    "id": "QyNMy2v6H5qA",
    "outputId": "abf15251-fe68-4050-b3ea-cd021bcf09d2",
    "papermill": {
     "duration": 0.263368,
     "end_time": "2024-06-04T12:34:53.239853",
     "exception": false,
     "start_time": "2024-06-04T12:34:52.976485",
     "status": "completed"
    },
    "tags": []
   },
   "outputs": [
    {
     "name": "stdout",
     "output_type": "stream",
     "text": [
      "Found 1222 files belonging to 3 classes.\n",
      "Using 978 files for training.\n"
     ]
    }
   ],
   "source": [
    "train_ds = tf.keras.utils.image_dataset_from_directory(\n",
    "  data_dir,\n",
    "  validation_split=0.2,\n",
    "  subset=\"training\",\n",
    "  seed=123,\n",
    "  image_size=(img_height, img_width),\n",
    "  label_mode='categorical',\n",
    "  batch_size=batch_size)"
   ]
  },
  {
   "cell_type": "code",
   "execution_count": 8,
   "id": "162e00f6",
   "metadata": {
    "execution": {
     "iopub.execute_input": "2024-06-04T12:34:53.270247Z",
     "iopub.status.busy": "2024-06-04T12:34:53.269770Z",
     "iopub.status.idle": "2024-06-04T12:34:53.415848Z",
     "shell.execute_reply": "2024-06-04T12:34:53.414523Z"
    },
    "id": "OS-z684QH8_D",
    "outputId": "d4ae24e1-4c8b-445d-f50e-1da1280bf431",
    "papermill": {
     "duration": 0.164187,
     "end_time": "2024-06-04T12:34:53.418669",
     "exception": false,
     "start_time": "2024-06-04T12:34:53.254482",
     "status": "completed"
    },
    "tags": []
   },
   "outputs": [
    {
     "name": "stdout",
     "output_type": "stream",
     "text": [
      "Found 1222 files belonging to 3 classes.\n",
      "Using 244 files for validation.\n"
     ]
    }
   ],
   "source": [
    "val_ds = tf.keras.utils.image_dataset_from_directory(\n",
    "  data_dir,\n",
    "  validation_split=0.2,\n",
    "  subset=\"validation\",\n",
    "  seed=123,\n",
    "  image_size=(img_height, img_width),\n",
    "  label_mode='categorical',\n",
    "  batch_size=batch_size)"
   ]
  },
  {
   "cell_type": "code",
   "execution_count": 9,
   "id": "1b3ee740",
   "metadata": {
    "execution": {
     "iopub.execute_input": "2024-06-04T12:34:53.448733Z",
     "iopub.status.busy": "2024-06-04T12:34:53.448234Z",
     "iopub.status.idle": "2024-06-04T12:34:53.456239Z",
     "shell.execute_reply": "2024-06-04T12:34:53.453628Z"
    },
    "id": "NIyjuQfpH_JR",
    "outputId": "85e929c2-bdc3-4328-8cd5-ee79ca8b8aec",
    "papermill": {
     "duration": 0.025919,
     "end_time": "2024-06-04T12:34:53.458739",
     "exception": false,
     "start_time": "2024-06-04T12:34:53.432820",
     "status": "completed"
    },
    "tags": []
   },
   "outputs": [
    {
     "name": "stdout",
     "output_type": "stream",
     "text": [
      "['Abnormal(Ulcer)', 'Normal(Healthy skin)', 'Wound Images']\n"
     ]
    }
   ],
   "source": [
    "class_names = train_ds.class_names\n",
    "print(class_names)"
   ]
  },
  {
   "cell_type": "code",
   "execution_count": 10,
   "id": "b3568f4c",
   "metadata": {
    "execution": {
     "iopub.execute_input": "2024-06-04T12:34:53.488994Z",
     "iopub.status.busy": "2024-06-04T12:34:53.488586Z",
     "iopub.status.idle": "2024-06-04T12:34:53.513441Z",
     "shell.execute_reply": "2024-06-04T12:34:53.512354Z"
    },
    "id": "yjzrDpQkjkKK",
    "papermill": {
     "duration": 0.043212,
     "end_time": "2024-06-04T12:34:53.516100",
     "exception": false,
     "start_time": "2024-06-04T12:34:53.472888",
     "status": "completed"
    },
    "tags": []
   },
   "outputs": [],
   "source": [
    "img_augmentation_layers =tf.keras.Sequential([\n",
    "    tf.keras.layers.RandomRotation(factor=0.15),\n",
    "    tf.keras.layers.RandomTranslation(height_factor=0.1, width_factor=0.1),\n",
    "    tf.keras.layers.RandomFlip(),\n",
    "    tf.keras.layers.RandomContrast(factor=0.1),\n",
    "])\n"
   ]
  },
  {
   "cell_type": "code",
   "execution_count": 11,
   "id": "1fc4d540",
   "metadata": {
    "execution": {
     "iopub.execute_input": "2024-06-04T12:34:53.546938Z",
     "iopub.status.busy": "2024-06-04T12:34:53.546490Z",
     "iopub.status.idle": "2024-06-04T12:34:53.551774Z",
     "shell.execute_reply": "2024-06-04T12:34:53.550545Z"
    },
    "id": "KB6o6Qeujl3g",
    "papermill": {
     "duration": 0.023563,
     "end_time": "2024-06-04T12:34:53.554203",
     "exception": false,
     "start_time": "2024-06-04T12:34:53.530640",
     "status": "completed"
    },
    "tags": []
   },
   "outputs": [],
   "source": [
    "# def format_label(label):\n",
    "#     string_label = label_info.int2str(label)\n",
    "#     return string_label.split(\"-\")[1]\n",
    "\n",
    "# label_info = train_ds.class_names\n",
    "# for image, _ in train_ds.take(1):\n",
    "#   plt.figure(figsize=(10, 10))\n",
    "#   first_image = image[0]\n",
    "#   for i in range(9):\n",
    "#     ax = plt.subplot(3, 3, i + 1)\n",
    "#     augmented_image = img_augmentation_layers(tf.expand_dims(first_image, 0))\n",
    "#     plt.imshow(augmented_image[0] / 255)\n",
    "#     plt.axis('off')"
   ]
  },
  {
   "cell_type": "code",
   "execution_count": 12,
   "id": "206652dc",
   "metadata": {
    "execution": {
     "iopub.execute_input": "2024-06-04T12:34:53.585667Z",
     "iopub.status.busy": "2024-06-04T12:34:53.585256Z",
     "iopub.status.idle": "2024-06-04T12:34:54.445509Z",
     "shell.execute_reply": "2024-06-04T12:34:54.444268Z"
    },
    "id": "8g2jXUgkI7py",
    "papermill": {
     "duration": 0.879907,
     "end_time": "2024-06-04T12:34:54.448547",
     "exception": false,
     "start_time": "2024-06-04T12:34:53.568640",
     "status": "completed"
    },
    "tags": []
   },
   "outputs": [],
   "source": [
    "train_ds = train_ds.map(\n",
    "    lambda x, y: (img_augmentation_layers(x), y),\n",
    "    num_parallel_calls=tf.data.AUTOTUNE\n",
    ")"
   ]
  },
  {
   "cell_type": "code",
   "execution_count": 13,
   "id": "ac35fe43",
   "metadata": {
    "execution": {
     "iopub.execute_input": "2024-06-04T12:34:54.481488Z",
     "iopub.status.busy": "2024-06-04T12:34:54.481030Z",
     "iopub.status.idle": "2024-06-04T12:34:54.488033Z",
     "shell.execute_reply": "2024-06-04T12:34:54.486871Z"
    },
    "id": "9SkQ9MqSwa-n",
    "papermill": {
     "duration": 0.025701,
     "end_time": "2024-06-04T12:34:54.490587",
     "exception": false,
     "start_time": "2024-06-04T12:34:54.464886",
     "status": "completed"
    },
    "tags": []
   },
   "outputs": [],
   "source": [
    "def plot_hist(hist):\n",
    "    plt.plot(hist.history[\"accuracy\"])\n",
    "    plt.plot(hist.history[\"val_accuracy\"])\n",
    "    plt.title(\"model accuracy\")\n",
    "    plt.ylabel(\"accuracy\")\n",
    "    plt.xlabel(\"epoch\")\n",
    "    plt.legend([\"train\", \"validation\"], loc=\"upper left\")\n",
    "    plt.show()"
   ]
  },
  {
   "cell_type": "code",
   "execution_count": 14,
   "id": "35aa85b0",
   "metadata": {
    "execution": {
     "iopub.execute_input": "2024-06-04T12:34:54.521743Z",
     "iopub.status.busy": "2024-06-04T12:34:54.521310Z",
     "iopub.status.idle": "2024-06-04T12:34:54.527664Z",
     "shell.execute_reply": "2024-06-04T12:34:54.526488Z"
    },
    "id": "1lTQz6dq9tbc",
    "papermill": {
     "duration": 0.024897,
     "end_time": "2024-06-04T12:34:54.530553",
     "exception": false,
     "start_time": "2024-06-04T12:34:54.505656",
     "status": "completed"
    },
    "tags": []
   },
   "outputs": [],
   "source": [
    "class customcallback(tf.keras.callbacks.Callback):\n",
    "    def on_epoch_end(self, epoch, logs={}):\n",
    "        if (logs.get('accuracy') > 0.99):\n",
    "            print(\"\\naccuracy >   0.99\")\n",
    "            self.model.stop_training = True"
   ]
  },
  {
   "cell_type": "code",
   "execution_count": 15,
   "id": "ede5ff48",
   "metadata": {
    "execution": {
     "iopub.execute_input": "2024-06-04T12:34:54.562090Z",
     "iopub.status.busy": "2024-06-04T12:34:54.561647Z",
     "iopub.status.idle": "2024-06-04T12:34:54.572912Z",
     "shell.execute_reply": "2024-06-04T12:34:54.570606Z"
    },
    "id": "VFnKw7q6wQwY",
    "papermill": {
     "duration": 0.030121,
     "end_time": "2024-06-04T12:34:54.575591",
     "exception": false,
     "start_time": "2024-06-04T12:34:54.545470",
     "status": "completed"
    },
    "tags": []
   },
   "outputs": [],
   "source": [
    "def build_model(num_classes):\n",
    "    inputs = tf.keras.layers.Input(shape=(img_height, img_width, 3))\n",
    "    model = MobileNetV3Large(include_top=False, input_tensor=inputs, weights='imagenet')\n",
    "\n",
    "    model.trainable = False\n",
    "    \n",
    "    x = tf.keras.layers.GlobalMaxPool2D(name=\"max_pool\")(model.output)\n",
    "    x = tf.keras.layers.BatchNormalization()(x)\n",
    "\n",
    "    top_dropout_rate = 0.3\n",
    "    x = tf.keras.layers.Dropout(top_dropout_rate, name=\"top_dropout\")(x)\n",
    "    outputs = tf.keras.layers.Dense(num_classes, activation=\"softmax\", name=\"pred\")(x)\n",
    "\n",
    "    model = tf.keras.Model(inputs, outputs, name=\"EfficientNet\")\n",
    "    optimizer = tf.keras.optimizers.RMSprop(learning_rate=4e-3)\n",
    "    model.compile(\n",
    "        optimizer=optimizer, loss=\"categorical_crossentropy\", metrics=[\"accuracy\"]\n",
    "    )\n",
    "    return model"
   ]
  },
  {
   "cell_type": "code",
   "execution_count": 16,
   "id": "3931f2ee",
   "metadata": {
    "execution": {
     "iopub.execute_input": "2024-06-04T12:34:54.606748Z",
     "iopub.status.busy": "2024-06-04T12:34:54.606271Z",
     "iopub.status.idle": "2024-06-04T12:34:54.613772Z",
     "shell.execute_reply": "2024-06-04T12:34:54.612427Z"
    },
    "papermill": {
     "duration": 0.026015,
     "end_time": "2024-06-04T12:34:54.616383",
     "exception": false,
     "start_time": "2024-06-04T12:34:54.590368",
     "status": "completed"
    },
    "tags": []
   },
   "outputs": [],
   "source": [
    "reduce_lr = tf.keras.callbacks.ReduceLROnPlateau(monitor = 'val_accuracy',\n",
    "                                                 mode = 'max',\n",
    "                                                 min_delta = 0.01,\n",
    "                                                 patience = 3,\n",
    "                                                 factor = 0.25,\n",
    "                                                 verbose = 1,\n",
    "                                                 cooldown = 0,\n",
    "                                                 min_lr = 0.00000001)\n",
    "early_stopper = tf.keras.callbacks.EarlyStopping(monitor = 'val_accuracy',\n",
    "                                                 mode = 'max',\n",
    "                                                 min_delta = 0.005,\n",
    "                                                 patience = 10,\n",
    "                                                 verbose = 1,\n",
    "                                                 restore_best_weights = True)"
   ]
  },
  {
   "cell_type": "code",
   "execution_count": 17,
   "id": "47c10ed9",
   "metadata": {
    "execution": {
     "iopub.execute_input": "2024-06-04T12:34:54.647633Z",
     "iopub.status.busy": "2024-06-04T12:34:54.647139Z",
     "iopub.status.idle": "2024-06-04T12:46:14.274780Z",
     "shell.execute_reply": "2024-06-04T12:46:14.273539Z"
    },
    "id": "J4WN0u8MQFwY",
    "outputId": "49493dbe-7d85-4ebe-f7f8-649ecdd25e65",
    "papermill": {
     "duration": 679.646254,
     "end_time": "2024-06-04T12:46:14.277482",
     "exception": false,
     "start_time": "2024-06-04T12:34:54.631228",
     "status": "completed"
    },
    "tags": []
   },
   "outputs": [
    {
     "name": "stdout",
     "output_type": "stream",
     "text": [
      "Downloading data from https://storage.googleapis.com/tensorflow/keras-applications/mobilenet_v3/weights_mobilenet_v3_large_224_1.0_float_no_top_v2.h5\n",
      "12683000/12683000 [==============================] - 1s 0us/step\n",
      "Epoch 1/100\n",
      "16/16 [==============================] - 38s 2s/step - loss: 0.3454 - accuracy: 0.8855 - val_loss: 1.6988 - val_accuracy: 0.7705 - lr: 0.0040\n",
      "Epoch 2/100\n",
      "16/16 [==============================] - 31s 2s/step - loss: 0.1614 - accuracy: 0.9468 - val_loss: 0.8576 - val_accuracy: 0.8648 - lr: 0.0040\n",
      "Epoch 3/100\n",
      "16/16 [==============================] - 31s 2s/step - loss: 0.1516 - accuracy: 0.9519 - val_loss: 0.4972 - val_accuracy: 0.9262 - lr: 0.0040\n",
      "Epoch 4/100\n",
      "16/16 [==============================] - 30s 2s/step - loss: 0.1539 - accuracy: 0.9519 - val_loss: 0.3776 - val_accuracy: 0.9303 - lr: 0.0040\n",
      "Epoch 5/100\n",
      "16/16 [==============================] - 30s 2s/step - loss: 0.0912 - accuracy: 0.9601 - val_loss: 0.4411 - val_accuracy: 0.9344 - lr: 0.0040\n",
      "Epoch 6/100\n",
      "16/16 [==============================] - 31s 2s/step - loss: 0.0993 - accuracy: 0.9652 - val_loss: 0.2970 - val_accuracy: 0.9385 - lr: 0.0040\n",
      "Epoch 7/100\n",
      "16/16 [==============================] - 31s 2s/step - loss: 0.1157 - accuracy: 0.9683 - val_loss: 0.2518 - val_accuracy: 0.9467 - lr: 0.0040\n",
      "Epoch 8/100\n",
      "16/16 [==============================] - 31s 2s/step - loss: 0.0934 - accuracy: 0.9724 - val_loss: 0.2473 - val_accuracy: 0.9426 - lr: 0.0040\n",
      "Epoch 9/100\n",
      "16/16 [==============================] - 31s 2s/step - loss: 0.0924 - accuracy: 0.9642 - val_loss: 0.2433 - val_accuracy: 0.9508 - lr: 0.0040\n",
      "Epoch 10/100\n",
      "16/16 [==============================] - 36s 2s/step - loss: 0.1076 - accuracy: 0.9693 - val_loss: 0.2004 - val_accuracy: 0.9508 - lr: 0.0040\n",
      "Epoch 11/100\n",
      "16/16 [==============================] - 30s 2s/step - loss: 0.0667 - accuracy: 0.9785 - val_loss: 0.1983 - val_accuracy: 0.9631 - lr: 0.0040\n",
      "Epoch 12/100\n",
      "16/16 [==============================] - 30s 2s/step - loss: 0.0983 - accuracy: 0.9632 - val_loss: 0.1845 - val_accuracy: 0.9590 - lr: 0.0040\n",
      "Epoch 13/100\n",
      "16/16 [==============================] - 30s 2s/step - loss: 0.0650 - accuracy: 0.9755 - val_loss: 0.1829 - val_accuracy: 0.9549 - lr: 0.0040\n",
      "Epoch 14/100\n",
      "16/16 [==============================] - ETA: 0s - loss: 0.0721 - accuracy: 0.9796\n",
      "Epoch 14: ReduceLROnPlateau reducing learning rate to 0.0010000000474974513.\n",
      "16/16 [==============================] - 36s 2s/step - loss: 0.0721 - accuracy: 0.9796 - val_loss: 0.1820 - val_accuracy: 0.9590 - lr: 0.0040\n",
      "Epoch 15/100\n",
      "16/16 [==============================] - 31s 2s/step - loss: 0.0683 - accuracy: 0.9796 - val_loss: 0.1799 - val_accuracy: 0.9590 - lr: 0.0010\n",
      "Epoch 16/100\n",
      "16/16 [==============================] - 31s 2s/step - loss: 0.0577 - accuracy: 0.9796 - val_loss: 0.1792 - val_accuracy: 0.9549 - lr: 0.0010\n",
      "Epoch 17/100\n",
      "16/16 [==============================] - ETA: 0s - loss: 0.0654 - accuracy: 0.9765\n",
      "Epoch 17: ReduceLROnPlateau reducing learning rate to 0.0002500000118743628.\n",
      "16/16 [==============================] - 31s 2s/step - loss: 0.0654 - accuracy: 0.9765 - val_loss: 0.1671 - val_accuracy: 0.9590 - lr: 0.0010\n",
      "Epoch 18/100\n",
      "16/16 [==============================] - 36s 2s/step - loss: 0.0772 - accuracy: 0.9765 - val_loss: 0.1650 - val_accuracy: 0.9590 - lr: 2.5000e-04\n",
      "Epoch 19/100\n",
      "16/16 [==============================] - 36s 2s/step - loss: 0.0668 - accuracy: 0.9755 - val_loss: 0.1632 - val_accuracy: 0.9631 - lr: 2.5000e-04\n",
      "Epoch 20/100\n",
      "16/16 [==============================] - ETA: 0s - loss: 0.0675 - accuracy: 0.9796\n",
      "Epoch 20: ReduceLROnPlateau reducing learning rate to 6.25000029685907e-05.\n",
      "16/16 [==============================] - 31s 2s/step - loss: 0.0675 - accuracy: 0.9796 - val_loss: 0.1611 - val_accuracy: 0.9631 - lr: 2.5000e-04\n",
      "Epoch 21/100\n",
      "16/16 [==============================] - ETA: 0s - loss: 0.0597 - accuracy: 0.9826Restoring model weights from the end of the best epoch: 11.\n",
      "16/16 [==============================] - 31s 2s/step - loss: 0.0597 - accuracy: 0.9826 - val_loss: 0.1598 - val_accuracy: 0.9631 - lr: 6.2500e-05\n",
      "Epoch 21: early stopping\n"
     ]
    },
    {
     "data": {
      "image/png": "[encoded data removed]",
      "text/plain": [
       "<Figure size 640x480 with 1 Axes>"
      ]
     },
     "metadata": {},
     "output_type": "display_data"
    }
   ],
   "source": [
    "from tensorflow.keras.applications import MobileNetV3Large\n",
    "from tensorflow.keras.callbacks import EarlyStopping\n",
    "# model = tf.keras.Sequential([\n",
    "#   tf.keras.layers.Rescaling(1./255),\n",
    "#   tf.keras.layers.Conv2D(32, 3, activation='relu'),\n",
    "#   tf.keras.layers.MaxPooling2D(),\n",
    "#   tf.keras.layers.Conv2D(64, 3, activation='relu'),\n",
    "#   tf.keras.layers.MaxPooling2D(),\n",
    "#   tf.keras.layers.Conv2D(128  , 3, activation='relu'),\n",
    "#   tf.keras.layers.Flatten(),\n",
    "#   tf.keras.layers.Dense(3, activation='softmax')\n",
    "# ])\n",
    "model = build_model(num_classes=3)\n",
    "callback = customcallback()\n",
    "early_stopping = EarlyStopping(monitor='accuracy',min_delta=1,verbose=1, patience=3)\n",
    "epochs = 100\n",
    "hist = model.fit(train_ds, epochs=epochs, validation_data=val_ds,callbacks=[early_stopper, reduce_lr])\n",
    "plot_hist(hist)"
   ]
  },
  {
   "cell_type": "code",
   "execution_count": 18,
   "id": "ada6bcbf",
   "metadata": {
    "execution": {
     "iopub.execute_input": "2024-06-04T12:46:14.387575Z",
     "iopub.status.busy": "2024-06-04T12:46:14.387158Z",
     "iopub.status.idle": "2024-06-04T12:46:14.391877Z",
     "shell.execute_reply": "2024-06-04T12:46:14.390937Z"
    },
    "id": "RvvyBasKQHzB",
    "papermill": {
     "duration": 0.062344,
     "end_time": "2024-06-04T12:46:14.394301",
     "exception": false,
     "start_time": "2024-06-04T12:46:14.331957",
     "status": "completed"
    },
    "tags": []
   },
   "outputs": [],
   "source": [
    "# model.compile(\n",
    "#   optimizer='adam',\n",
    "#   loss='categorical_crossentropy',\n",
    "#   metrics=['accuracy'])"
   ]
  },
  {
   "cell_type": "code",
   "execution_count": 19,
   "id": "ca6926d3",
   "metadata": {
    "execution": {
     "iopub.execute_input": "2024-06-04T12:46:14.505114Z",
     "iopub.status.busy": "2024-06-04T12:46:14.504042Z",
     "iopub.status.idle": "2024-06-04T12:46:14.509557Z",
     "shell.execute_reply": "2024-06-04T12:46:14.508333Z"
    },
    "id": "8uvaL-WrQPB7",
    "papermill": {
     "duration": 0.06385,
     "end_time": "2024-06-04T12:46:14.512322",
     "exception": false,
     "start_time": "2024-06-04T12:46:14.448472",
     "status": "completed"
    },
    "tags": []
   },
   "outputs": [],
   "source": [
    "# model.fit(\n",
    "#   train_ds,\n",
    "#   validation_data=val_ds,\n",
    "#   epochs=10\n",
    "# )"
   ]
  },
  {
   "cell_type": "code",
   "execution_count": 20,
   "id": "f7d51ce1",
   "metadata": {
    "execution": {
     "iopub.execute_input": "2024-06-04T12:46:14.624072Z",
     "iopub.status.busy": "2024-06-04T12:46:14.623653Z",
     "iopub.status.idle": "2024-06-04T12:46:14.629183Z",
     "shell.execute_reply": "2024-06-04T12:46:14.628077Z"
    },
    "id": "rX0odzvpcXXn",
    "papermill": {
     "duration": 0.065141,
     "end_time": "2024-06-04T12:46:14.631411",
     "exception": false,
     "start_time": "2024-06-04T12:46:14.566270",
     "status": "completed"
    },
    "tags": []
   },
   "outputs": [],
   "source": [
    "# from PIL import Image\n",
    "# import numpy as np\n",
    "# from skimage import transform\n",
    "# def load(filename):\n",
    "#    np_image = Image.open(filename)\n",
    "#    np_image = np.array(np_image).astype('float32')/255\n",
    "#    np_image = transform.resize(np_image, (180, 180, 3))\n",
    "#    np_image = np.expand_dims(np_image, axis=0)\n",
    "#    return np_image\n",
    "\n",
    "# image = load('/content/Patches/Abnormal(Ulcer)/122.jpg')\n",
    "# predictions= model.predict(image)\n",
    "# print(predictions[0])\n",
    "# print(np.argmax(predictions[0]))"
   ]
  },
  {
   "cell_type": "code",
   "execution_count": 21,
   "id": "3d55f1d8",
   "metadata": {
    "execution": {
     "iopub.execute_input": "2024-06-04T12:46:14.742610Z",
     "iopub.status.busy": "2024-06-04T12:46:14.742114Z",
     "iopub.status.idle": "2024-06-04T12:46:19.946448Z",
     "shell.execute_reply": "2024-06-04T12:46:19.944861Z"
    },
    "id": "CXCN8YDve1Wz",
    "outputId": "e2dd3238-b24d-4723-b434-25942dd501cf",
    "papermill": {
     "duration": 5.264762,
     "end_time": "2024-06-04T12:46:19.949743",
     "exception": false,
     "start_time": "2024-06-04T12:46:14.684981",
     "status": "completed"
    },
    "tags": []
   },
   "outputs": [
    {
     "name": "stdout",
     "output_type": "stream",
     "text": [
      "/opt/conda/lib/python3.10/site-packages/gdown/__main__.py:140: FutureWarning: Option `--id` was deprecated in version 4.3.1 and will be removed in 5.0. You don't need to pass it anymore to use a file ID.\r\n",
      "  warnings.warn(\r\n",
      "Downloading...\r\n",
      "From: https://drive.google.com/uc?id=1SibxIgQ0rIRbde5vIXR8G4hZqy9jA3-W\r\n",
      "To: /kaggle/working/TEST.zip\r\n",
      "100%|██████████████████████████████████████| 9.87M/9.87M [00:00<00:00, 39.5MB/s]\r\n"
     ]
    }
   ],
   "source": [
    "!gdown --id 1SibxIgQ0rIRbde5vIXR8G4hZqy9jA3-W"
   ]
  },
  {
   "cell_type": "code",
   "execution_count": 22,
   "id": "e9788d17",
   "metadata": {
    "execution": {
     "iopub.execute_input": "2024-06-04T12:46:20.061441Z",
     "iopub.status.busy": "2024-06-04T12:46:20.060924Z",
     "iopub.status.idle": "2024-06-04T12:46:21.344320Z",
     "shell.execute_reply": "2024-06-04T12:46:21.342617Z"
    },
    "id": "BIdi0NTgK4sH",
    "papermill": {
     "duration": 1.342951,
     "end_time": "2024-06-04T12:46:21.347412",
     "exception": false,
     "start_time": "2024-06-04T12:46:20.004461",
     "status": "completed"
    },
    "tags": []
   },
   "outputs": [],
   "source": [
    "!unzip -q './TEST.zip'"
   ]
  },
  {
   "cell_type": "code",
   "execution_count": 23,
   "id": "3f45a941",
   "metadata": {
    "execution": {
     "iopub.execute_input": "2024-06-04T12:46:21.461187Z",
     "iopub.status.busy": "2024-06-04T12:46:21.460732Z",
     "iopub.status.idle": "2024-06-04T12:46:21.467363Z",
     "shell.execute_reply": "2024-06-04T12:46:21.466021Z"
    },
    "id": "4sgqyJLfK61k",
    "papermill": {
     "duration": 0.06719,
     "end_time": "2024-06-04T12:46:21.469905",
     "exception": false,
     "start_time": "2024-06-04T12:46:21.402715",
     "status": "completed"
    },
    "tags": []
   },
   "outputs": [],
   "source": [
    "test_dir = pathlib.Path(\"./TEST\")"
   ]
  },
  {
   "cell_type": "code",
   "execution_count": 24,
   "id": "c1bd8080",
   "metadata": {
    "execution": {
     "iopub.execute_input": "2024-06-04T12:46:21.580885Z",
     "iopub.status.busy": "2024-06-04T12:46:21.580432Z",
     "iopub.status.idle": "2024-06-04T12:46:21.649894Z",
     "shell.execute_reply": "2024-06-04T12:46:21.648621Z"
    },
    "id": "KhnP-A_UK8w7",
    "outputId": "787cb041-5e9f-4a2c-f666-8066eb19a90c",
    "papermill": {
     "duration": 0.128894,
     "end_time": "2024-06-04T12:46:21.652804",
     "exception": false,
     "start_time": "2024-06-04T12:46:21.523910",
     "status": "completed"
    },
    "tags": []
   },
   "outputs": [
    {
     "name": "stdout",
     "output_type": "stream",
     "text": [
      "Found 168 files belonging to 3 classes.\n"
     ]
    }
   ],
   "source": [
    "test_ds = tf.keras.utils.image_dataset_from_directory(\n",
    "  test_dir,\n",
    "  image_size=(img_height, img_width),\n",
    "  label_mode='categorical',\n",
    "  batch_size=batch_size,shuffle=False)"
   ]
  },
  {
   "cell_type": "code",
   "execution_count": 25,
   "id": "8919e69c",
   "metadata": {
    "execution": {
     "iopub.execute_input": "2024-06-04T12:46:21.766098Z",
     "iopub.status.busy": "2024-06-04T12:46:21.765653Z",
     "iopub.status.idle": "2024-06-04T12:46:26.925050Z",
     "shell.execute_reply": "2024-06-04T12:46:26.923681Z"
    },
    "id": "YQ5r-lhLLkO6",
    "outputId": "ead2ec93-1ff7-4ad5-b702-dc71c928ac08",
    "papermill": {
     "duration": 5.219826,
     "end_time": "2024-06-04T12:46:26.928530",
     "exception": false,
     "start_time": "2024-06-04T12:46:21.708704",
     "status": "completed"
    },
    "tags": []
   },
   "outputs": [
    {
     "name": "stdout",
     "output_type": "stream",
     "text": [
      "3/3 [==============================] - 4s 1s/step - loss: 1.7598 - accuracy: 0.7560\n"
     ]
    }
   ],
   "source": [
    "result = model.evaluate(test_ds)"
   ]
  },
  {
   "cell_type": "code",
   "execution_count": 26,
   "id": "2af298ff",
   "metadata": {
    "execution": {
     "iopub.execute_input": "2024-06-04T12:46:27.041063Z",
     "iopub.status.busy": "2024-06-04T12:46:27.040627Z",
     "iopub.status.idle": "2024-06-04T12:46:28.444498Z",
     "shell.execute_reply": "2024-06-04T12:46:28.443036Z"
    },
    "id": "d2pimdb3rEDS",
    "outputId": "7e8ed611-3a6d-466a-e1b4-90b46be9ae7f",
    "papermill": {
     "duration": 1.463438,
     "end_time": "2024-06-04T12:46:28.447190",
     "exception": false,
     "start_time": "2024-06-04T12:46:26.983752",
     "status": "completed"
    },
    "tags": []
   },
   "outputs": [
    {
     "name": "stdout",
     "output_type": "stream",
     "text": [
      "1/1 [==============================] - 1s 1s/step\n",
      "This image most likely belongs to Wound Images with a 57.61 percent confidence.\n"
     ]
    }
   ],
   "source": [
    "img = tf.keras.utils.load_img(\n",
    "    './TEST/Wound Images/abrasions (82).jpg', target_size=(img_height, img_width)\n",
    ")\n",
    "img_array = tf.keras.utils.img_to_array(img)\n",
    "img_array = tf.expand_dims(img_array, 0) # Create a batch\n",
    "\n",
    "predictions = model.predict(img_array)\n",
    "score = tf.nn.softmax(predictions[0])\n",
    "\n",
    "print(\n",
    "    \"This image most likely belongs to {} with a {:.2f} percent confidence.\"\n",
    "    .format(class_names[np.argmax(score)], 100 * np.max(score))\n",
    ")"
   ]
  },
  {
   "cell_type": "code",
   "execution_count": 27,
   "id": "65f8e906",
   "metadata": {
    "execution": {
     "iopub.execute_input": "2024-06-04T12:46:28.559432Z",
     "iopub.status.busy": "2024-06-04T12:46:28.558935Z",
     "iopub.status.idle": "2024-06-04T12:46:28.568097Z",
     "shell.execute_reply": "2024-06-04T12:46:28.566653Z"
    },
    "id": "jISpr_515gYM",
    "outputId": "d306a9e8-3994-4c89-dc01-f063d4de71b1",
    "papermill": {
     "duration": 0.068408,
     "end_time": "2024-06-04T12:46:28.570565",
     "exception": false,
     "start_time": "2024-06-04T12:46:28.502157",
     "status": "completed"
    },
    "tags": []
   },
   "outputs": [
    {
     "name": "stdout",
     "output_type": "stream",
     "text": [
      "Confidence for class 'Abnormal(Ulcer)': 21.19%\n"
     ]
    }
   ],
   "source": [
    "print(\"Confidence for class '{}': {:.2f}%\".format(class_names[0], 100 * score[0]))"
   ]
  },
  {
   "cell_type": "code",
   "execution_count": 28,
   "id": "b28d9591",
   "metadata": {
    "execution": {
     "iopub.execute_input": "2024-06-04T12:46:28.686059Z",
     "iopub.status.busy": "2024-06-04T12:46:28.685622Z",
     "iopub.status.idle": "2024-06-04T12:46:35.623084Z",
     "shell.execute_reply": "2024-06-04T12:46:35.621844Z"
    },
    "id": "FaJV640E6K2U",
    "outputId": "30f1def6-0236-4d10-d52e-e2b49772f5a9",
    "papermill": {
     "duration": 6.999616,
     "end_time": "2024-06-04T12:46:35.625727",
     "exception": false,
     "start_time": "2024-06-04T12:46:28.626111",
     "status": "completed"
    },
    "tags": []
   },
   "outputs": [
    {
     "name": "stdout",
     "output_type": "stream",
     "text": [
      "3/3 [==============================] - 5s 1s/step\n"
     ]
    },
    {
     "data": {
      "image/png": "[encoded data removed]",
      "text/plain": [
       "<Figure size 640x480 with 2 Axes>"
      ]
     },
     "metadata": {},
     "output_type": "display_data"
    }
   ],
   "source": [
    "from sklearn.metrics import confusion_matrix, ConfusionMatrixDisplay\n",
    "y_pred_prob = model.predict(test_ds)\n",
    "y_pred = np.argmax(y_pred_prob, axis=1)\n",
    "\n",
    "# Get the true labels\n",
    "y_true = np.concatenate([y for x, y in test_ds], axis=0)\n",
    "y_true = np.argmax(y_true, axis=1)\n",
    "\n",
    "# Create the confusion matrix\n",
    "cm = confusion_matrix(y_true, y_pred)\n",
    "\n",
    "# Display the confusion matrix\n",
    "labels = test_ds.class_names\n",
    "disp = ConfusionMatrixDisplay(confusion_matrix=cm, display_labels=labels)\n",
    "disp.plot(cmap=plt.cm.Blues)\n",
    "plt.show()"
   ]
  },
  {
   "cell_type": "code",
   "execution_count": 29,
   "id": "4bc79c0c",
   "metadata": {
    "execution": {
     "iopub.execute_input": "2024-06-04T12:46:35.743393Z",
     "iopub.status.busy": "2024-06-04T12:46:35.742982Z",
     "iopub.status.idle": "2024-06-04T12:46:36.109078Z",
     "shell.execute_reply": "2024-06-04T12:46:36.107710Z"
    },
    "id": "-9ZQ-XNNb5tr",
    "outputId": "a8c6afeb-d3d6-478b-e9f0-56dac35a6bdf",
    "papermill": {
     "duration": 0.429077,
     "end_time": "2024-06-04T12:46:36.112154",
     "exception": false,
     "start_time": "2024-06-04T12:46:35.683077",
     "status": "completed"
    },
    "tags": []
   },
   "outputs": [
    {
     "name": "stderr",
     "output_type": "stream",
     "text": [
      "/opt/conda/lib/python3.10/site-packages/keras/src/engine/training.py:3103: UserWarning: You are saving your model as an HDF5 file via `model.save()`. This file format is considered legacy. We recommend using instead the native Keras format, e.g. `model.save('my_model.keras')`.\n",
      "  saving_api.save_model(\n"
     ]
    }
   ],
   "source": [
    "model.save(\"modelEFN2.h5\")"
   ]
  }
 ],
 "metadata": {
  "colab": {
   "provenance": []
  },
  "kaggle": {
   "accelerator": "none",
   "dataSources": [],
   "dockerImageVersionId": 30715,
   "isGpuEnabled": false,
   "isInternetEnabled": true,
   "language": "python",
   "sourceType": "notebook"
  },
  "kernelspec": {
   "display_name": "Python 3",
   "language": "python",
   "name": "python3"
  },
  "language_info": {
   "codemirror_mode": {
    "name": "ipython",
    "version": 3
   },
   "file_extension": ".py",
   "mimetype": "text/x-python",
   "name": "python",
   "nbconvert_exporter": "python",
   "pygments_lexer": "ipython3",
   "version": "3.10.13"
  },
  "papermill": {
   "default_parameters": {},
   "duration": 839.733383,
   "end_time": "2024-06-04T12:46:39.338661",
   "environment_variables": {},
   "exception": null,
   "input_path": "__notebook__.ipynb",
   "output_path": "__notebook__.ipynb",
   "parameters": {},
   "start_time": "2024-06-04T12:32:39.605278",
   "version": "2.5.0"
  }
 },
 "nbformat": 4,
 "nbformat_minor": 5
}
